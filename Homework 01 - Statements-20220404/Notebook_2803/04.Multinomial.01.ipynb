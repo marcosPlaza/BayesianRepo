{
 "cells": [
  {
   "cell_type": "markdown",
   "metadata": {},
   "source": [
    "# Multinomial data 01"
   ]
  },
  {
   "cell_type": "markdown",
   "metadata": {},
   "source": [
    "# _Josep Fortiana_   2022-03-28"
   ]
  },
  {
   "cell_type": "markdown",
   "metadata": {},
   "source": [
    "***\n",
    "###### LaTeX macros\n",
    "$\\def\\prob{P}$\n",
    "$\\def\\argmax{\\operatorname{arg\\,max}}$\n",
    "$\\def\\argmin{\\operatorname{arg\\,min}}$\n",
    "$\\def\\borel{\\operatorname{Borel}}$\n",
    "$\\def\\cE{\\cal E}$\n",
    "$\\def\\cP{\\cal P}$\n",
    "$\\def\\R{\\mathbb{R}}$ \n",
    "$\\def\\N{\\mathbb{N}}$\n",
    "$\\def\\Z{\\mathbb{Z}}$\n",
    "$\\def\\Ee{\\operatorname{E}}$\n",
    "$\\def\\va{\\text{v.a.}}$\n",
    "$\\def\\var{\\operatorname{var}}$\n",
    "$\\def\\cov{\\operatorname{cov}}$\n",
    "$\\def\\cor{\\operatorname{cor}}$\n",
    "$\\def\\binomdist{\\operatorname{Binom}}$\n",
    "$\\def\\berndist{\\operatorname{Ber}}$\n",
    "$\\def\\betabinomdist{\\operatorname{Beta-Binom}}$\n",
    "$\\def\\betadist{\\operatorname{Beta}}$\n",
    "$\\def\\expdist{\\operatorname{Exp}}$\n",
    "$\\def\\gammadist{\\operatorname{Gamma}}$\n",
    "$\\def\\hyperdist{\\operatorname{Hypergeom}}$\n",
    "$\\def\\hypergeomdist{\\operatorname{Hypergeom}}$\n",
    "$\\DeclareMathOperator{\\multinomialdist}{Multinomial}$\n",
    "$\\DeclareMathOperator{\\multinomdist}{Multinom}$\n",
    "$\\def\\poissondist{\\operatorname{Poisson}}$\n",
    "$\\def\\geomdist{\\operatorname{Geom}}$\n",
    "$\\def\\normaldist{\\operatorname{N}}$\n",
    "$\\def\\unifdist{\\operatorname{Unif}}$\n",
    "$\\DeclareMathOperator{\\indica}{\\mathbb{1}}$\n",
    "$\\def\\CondTo{\\mathbin{|\\mskip0.5mu}}$\n",
    "***"
   ]
  },
  {
   "cell_type": "markdown",
   "metadata": {},
   "source": [
    "## Election forecasting problems\n",
    "\n",
    "Bayesian statistics is the natural method of blending prior information (from previous polls or elections) with current results, either from an isolated survey or from a sequence of surveys taken at regular intervals  _(tracking)_ approaching election day. In the simplest setting, in a given district, the vector of number of votes cast for the $m$ political parties contesting in a multi-party election follows an $m$-dimensional multinomial distribution. Hence we consider problems in analysis of election-related data as representative of Bayesian treatment for the multinomial distribution.\n",
    "\n",
    "Realistically forecasting vote counts requires many data analytical techniques, including methods for aggregating results from diverse electoral districts and supervised learning methods to take into account other sources of information and/or variability such as socio-economical factors and geo-spatial influences. Political representation systems transforming number of votes into actual final results, such as number of seats in a Parliament modulated by d'Hondt rule as in Spanish elections or electoral votes in the US presidential elections, add an additional layer of complexity. In any case, election forecasting offers an ample field for Data Scientists.\n",
    "\n",
    "Several aspects of these problems were treated in a monographic Elections issue in the journal _Statistical Science,_ number 4 in volume 17 (2002). Another Special Section in this same journal, volume 26, number 4 (2011) is devoted to \n",
    "Election Forensics and the 2004 Venezuelan Presidential Recall Referendum.\n",
    "\t\n",
    "### USA presidential elections\n",
    "\n",
    "A readable paper (about the 2008 election) is:\tRigdon, Steven E. et al. (2009) _A Bayesian Prediction Model for the U.S. Presidential Election,_ American Politics Research, Vol. 37, Num. 4, 700-724. This paper considers a $m=4$-wise partition of the electoral space in groups: $i=1$, voters for the Republican candidate, $i=2$, voters for the Democratic party, $i=3$, aggregated voters for all remaning parties and $i=4$, undecided. \n",
    "\n",
    "### Spanish general and regional elections\n",
    "\n",
    "In the blog by [Virgilio Gómez Rubio - Universidad de Castilla-La Mancha](https://becarioprecario.github.io/)\n",
    "there are several analyses of Spanish election data, both general and from autonomous regions, using the Dirichlet-Multinomial model. He includes some datasets and segments of the code used.\n",
    "\n",
    "### The following case studies\n",
    "\n",
    "The first two Case Studies below are textbook examples: Case Study 1 is taken from Gelman _et al._ (2013), _BDA3,_ pp. 69-70, and Case Study 2 comes from Jim Albert (2009), _Bayesian Computations with R (2nd ed)_ pp. 66-69. Case Study 3 is based on [C. W. Stevenson](https://statistical-research.com/)'s paper _Probability-Based Estimation and the 2012 Presidential Election Exit Poll_ with code in [R-Bloggers](https://www.r-bloggers.com/r-code-for-election-posterior-distribution-from-a-random-sample/). "
   ]
  },
  {
   "cell_type": "markdown",
   "metadata": {},
   "source": [
    "# The Dirichlet-Multinomial model"
   ]
  },
  {
   "cell_type": "markdown",
   "metadata": {},
   "source": [
    "Generalizes the Beta-Binomial conjugate pair.\n",
    "\n",
    "The Dirichlet distribution is the multivariate Beta. The Multinomial distribution is the multivariate Binomial."
   ]
  },
  {
   "cell_type": "markdown",
   "metadata": {},
   "source": [
    "### Multivariate Bernoulli distribution\n",
    "\n",
    "A partition $\\Omega=A_{1}\\sqcup\\cdots\\sqcup A_{m}$, where the $A_{j}$ are\n",
    "pairwise exclusive events whose union is the total space, and:\n",
    "\n",
    "$$\n",
    "    \\theta=(\\theta_{1},\\dots,\\theta_{m}),\n",
    "    \\quad\\theta_{j}=\\prob(A_{j}), \\mskip40mu 1\\leq j\\leq m.\n",
    "$$\n",
    "\n",
    "Each indicator\n",
    "\n",
    "$$\n",
    "    \\indica_{A_{j}}\\sim\\berndist(\\theta_{j})\\mskip40mu 1\\leq j\\leq m.\n",
    "$$\n",
    "\n",
    "The $m$-dimensional vector of indicators:\n",
    "\n",
    "$$\n",
    "    (\\indica_{A_{1}},\\dots,\\indica_{A_{m}}),\n",
    "$$\n",
    "\n",
    "follows  an $m$-dimensional _multivariate Bernoulli_ distribution with vector of probabilities:\n",
    "    \n",
    "$$\n",
    "    \\theta=(\\theta_{1},\\dots,\\theta_{m}),\n",
    "$$\n",
    "\n",
    "The sum of the $m$ probabilities is $1$. The sum of the $m$ indicators is $1$  _(Cannot be independent!!)._\n",
    "\n",
    "Each $j$-th marginal, $\\indica_{A_{j}}\\sim\\berndist(\\theta_{j})$.\n",
    "\n",
    "$$\n",
    "\\begin{align*}\n",
    "    &\\Ee(\\indica_{A_{j}})=\\theta_{j},\n",
    "    &\\mskip-70mu\\var(\\indica_{A_{j}})=\\theta_{j}\\,(1-\\theta_{j}),\\\\[0.4cm]\n",
    "    &\\cov(\\indica_{A_{j}},\\indica_{A_{k}})=-\\theta_{j}\\,\\theta_{k},  \\mskip40mu j\\neq k.\n",
    "\\end{align*}\n",
    "$$"
   ]
  },
  {
   "cell_type": "markdown",
   "metadata": {},
   "source": [
    "## The multinomial distribution\n",
    "\n",
    "An $m$-dimensional vector $x=(x_{1},\\dots,x_{m})$, of integers $x_{j}\\in[0,n]$ such that $\\sum_{j=1}^{m}x_{j}=n$\n",
    "has an $m$-dimensional multinomial distribution of size $n$ and vector of probabilities \n",
    "$\\theta=(\\theta_{1},\\dots,\\theta_{m})$, $\\theta_{j}\\in[0,1]$,  such that $\\sum_{j=1}^{m}\\theta_{j}=1$, if it has\n",
    "the joint pmf:\n",
    "\n",
    "$$\n",
    "    \\dfrac{n!}{x_{1}!\\cdot\\cdots\\cdot x_{m}!}\\,\n",
    "    \\theta_{1}^{x_{1}}\\cdot\\cdots\\cdot \\theta_{m}^{x_{m}}.\n",
    "$$\n",
    "\n",
    "$x\\sim\\multinomdist(\\theta)$. Such vector $x$ is the sum of $n$ $m$-dimensional vectors i.i.d. $\\sim\\berndist(\\theta)$."
   ]
  },
  {
   "cell_type": "markdown",
   "metadata": {},
   "source": [
    "### The Dirichlet distribution\n",
    "\n",
    "$\\theta$'s joint pdf, with parameters $a=(a_{1},\\dots,a_{m})$, $a_{i}>0$:\n",
    "\n",
    "$$\n",
    "    h(\\theta_{1},\\dots,\\theta_{m};a_{1},\\dots,a_{m})=\n",
    "    \\frac{1}{\\text{B}(a)}\\,\\prod_{i=1}^{m} \\theta_{i}^{a_{i}-1}, \\mskip15mu\\text{where}\n",
    "$$\n",
    "$$\n",
    "    \\operatorname{B}(a)=\\frac{\\prod_{i=1}^{m}\\Gamma(a_{i})}{\\Gamma\\left(\\sum_{i=1}^{m}a_{i}\\right)}\n",
    "    \\mskip20mu\\text{is the multivariate Beta function.}\n",
    "$$"
   ]
  },
  {
   "cell_type": "markdown",
   "metadata": {},
   "source": [
    "### Multinomial likelihood with Dirichlet prior\n",
    "\n",
    "$$\n",
    "    \\text{If:}\\mskip12mu(x|\\theta)\\equiv (x_{1},\\dots,x_{m}\\CondTo\\theta_{1},\\dots,\\theta_{m})\\sim\\multinomdist(n,\\theta),\n",
    "$$ \n",
    "\n",
    "with parameter vector:\n",
    "\n",
    "$$\n",
    "    \\theta=(\\theta_{1},\\dots,\\theta_{m}),\\;\\;0<\\theta_{i}<1,\\;\\; 1\\leq i \\leq m,\\;\\;\\textstyle\\sum_{i=1}^{m}\\theta_{i}=1,\n",
    "$$\n",
    "\n",
    "and $\\theta$'s joint prior is Dirichlet with parameters $a=(a_{1},\\dots,a_{m})$, then $\\theta$'s posterior is Dirichlet,\n",
    "with parameters: \n",
    "$$\n",
    "   a+x=(a_{1}+x_{1},\\dots,a_{m}+x_{m}).\n",
    "$$"
   ]
  },
  {
   "cell_type": "markdown",
   "metadata": {},
   "source": [
    "# Case study 1: US 1988 election"
   ]
  },
  {
   "cell_type": "markdown",
   "metadata": {},
   "source": [
    "Example from: Albert (2009), _Bayesian Computation with R,_ 2ed, p. 66, and Gelman et al (2013) _BDA3,_ p. 69."
   ]
  },
  {
   "cell_type": "markdown",
   "metadata": {},
   "source": [
    "## Data and context\n",
    "\n",
    "In late October, 1988, a survey was conducted by CBS News of 1447 adults in the United States to find out their preferences in the upcoming presidential election. Out of $n=1447$ persons, $y_1=727$ supported George H. Bush, $y_2=583$\n",
    "supported Michael Dukakis, and $y_3=137$ supported other candidates or expressed no opinion. \n",
    "\n",
    "Assuming no other information on the respondents, the 1447 observations are exchangeable. If we also assume simple random sampling (that is, 1447 names \"drawn out of a hat\"), then the data $\\mathbf{y}=(y_1, y_2, y_3)$, $y_1+y_2+y_3=n$, follow a multinomial distribution, with parameters $n$ and $\\boldsymbol{\\theta}=(\\theta_1,\\theta_2,\\theta_3)$, with $\\theta_1+\\theta_2+\\theta_3=1$, the proportions of Bush supporters, Dukakis supporters, and those with no opinion in the survey population.\n",
    "\n",
    "An estimand of interest is $\\theta_1−\\theta_2$, the population difference in support for the two major candidates."
   ]
  },
  {
   "cell_type": "code",
   "execution_count": null,
   "metadata": {},
   "outputs": [],
   "source": [
    "n<-1447\n",
    "y1<-727\n",
    "y2<-583\n",
    "y3<-137\n",
    "y<-c(y1,y2,y3)\n",
    "sum(y)"
   ]
  },
  {
   "cell_type": "markdown",
   "metadata": {},
   "source": [
    "## Prior distribution\n",
    "\n",
    "A Dirichlet distribution with parameters $\\boldsymbol{\\alpha}=(\\alpha_1,\\alpha_2,\\alpha_3)$:\n",
    "\n",
    "$$\n",
    "    h(\\boldsymbol{\\theta}\\,|\\,\\boldsymbol{\\alpha})\\propto \\boldsymbol{\\theta}^{\\boldsymbol{\\alpha}}\n",
    "    \\equiv\\theta_1^{\\alpha_1-1}\\cdot\\theta_2^{\\alpha_2-1}\\cdot\\theta_3^{\\alpha_3-1},\n",
    "    \\quad \\theta_1, \\theta_2, \\theta_3 \\in(0,1), \\quad \\theta_1+\\theta_2+\\theta_3=1.\n",
    "$$\n",
    "\n",
    "This prior distribution is mathematically equivalent to a likelihood resulting from $a=\\alpha_1+\\alpha_2+\\alpha_3$ observations with $\\alpha_j$ observations of the $j$-th outcome category. "
   ]
  },
  {
   "cell_type": "markdown",
   "metadata": {},
   "source": [
    "As in the binomial there are several plausible noninformative Dirichlet prior distributions. \n",
    "\n",
    "1. A (three-dimensional) uniform density is obtained by setting $\\alpha_j=1$ for all $j$; this distribution assigns equal density to any vector $\\boldsymbol{\\theta}$ satisfying $\\theta_1+\\theta_2+\\theta_3=1$. \n",
    "\n",
    "2. Setting $\\alpha_j = 0$ for all $j$ results in an improper prior distribution that is uniform in the $\\log(\\theta_j)$’s. The resulting posterior distribution is proper if there is at least one observation in each of the $k=3$ categories, so that each component of $\\mathbf{y}$ is positive.\n",
    "\n",
    "Here we use the uniform prior:"
   ]
  },
  {
   "cell_type": "code",
   "execution_count": null,
   "metadata": {},
   "outputs": [],
   "source": [
    "alpha.prior<-c(1,1,1)"
   ]
  },
  {
   "cell_type": "markdown",
   "metadata": {},
   "source": [
    "#### Posterior distribution"
   ]
  },
  {
   "cell_type": "code",
   "execution_count": null,
   "metadata": {},
   "outputs": [],
   "source": [
    "alpha.post<-alpha.prior+y"
   ]
  },
  {
   "cell_type": "markdown",
   "metadata": {},
   "source": [
    "#### Simulate $\\theta_1-\\theta_2$ and summarize results"
   ]
  },
  {
   "cell_type": "code",
   "execution_count": null,
   "metadata": {},
   "outputs": [],
   "source": [
    "## One of these, to have the 'rdirichlet()' function\n",
    "#\n",
    "##install.packages(\"LearnBayes\", dependencies=TRUE, repos= \"https://cloud.r-project.org\")\n",
    "require(LearnBayes)\n",
    "#install.packages(\"extraDistr\", dependencies=TRUE, repos= \"https://cloud.r-project.org\")\n",
    "#require(extraDistr)"
   ]
  },
  {
   "cell_type": "code",
   "execution_count": null,
   "metadata": {},
   "outputs": [],
   "source": [
    "N<-10000\n",
    "theta<-rdirichlet(N,alpha.post)"
   ]
  },
  {
   "cell_type": "code",
   "execution_count": null,
   "metadata": {},
   "outputs": [],
   "source": [
    "# Compute differences\n",
    "D<-theta[,1]-theta[,2]\n",
    "summary(D)"
   ]
  },
  {
   "cell_type": "code",
   "execution_count": null,
   "metadata": {},
   "outputs": [],
   "source": [
    "options(repr.plot.width=7,repr.plot.height=7)\n",
    "hist(D,col=\"cyan\")"
   ]
  },
  {
   "cell_type": "markdown",
   "metadata": {},
   "source": [
    "#### Conclusions\n",
    "\n",
    "The estimated probability of Dukakis getting larger support than Bush is vanishingly small:"
   ]
  },
  {
   "cell_type": "code",
   "execution_count": null,
   "metadata": {},
   "outputs": [],
   "source": [
    "sum(D<0)/N"
   ]
  },
  {
   "cell_type": "markdown",
   "metadata": {},
   "source": [
    "# Case study 2: US 2008 election"
   ]
  },
  {
   "cell_type": "markdown",
   "metadata": {},
   "source": [
    "#### Data and context\n",
    "\n",
    "In the 2008 US presidential election the main contestants were Barack Obama and John McCain. \n",
    "\n",
    "The `election.2008` dataset in the `LearnBayes` package is a data frame with results of poll surveys on each of the 51 _states_ (50 states and the District of Columbia), in each of which 500 people were questioned. Results are registered as 51 observations on the following 4 variables: `State`, name of the state, `M.pct`, percentage of poll survey for McCain, `O.pct`, precentage of poll survey for Obama, `EV`, number of electoral votes (all of which are assigned to the winner in the state)."
   ]
  },
  {
   "cell_type": "code",
   "execution_count": null,
   "metadata": {},
   "outputs": [],
   "source": [
    "#install.packages(\"LearnBayes\", repos= \"https://cloud.r-project.org\")\n",
    "require(LearnBayes)"
   ]
  },
  {
   "cell_type": "code",
   "execution_count": null,
   "metadata": {},
   "outputs": [],
   "source": [
    "data(election.2008)\n",
    "attach(election.2008)"
   ]
  },
  {
   "cell_type": "markdown",
   "metadata": {},
   "source": [
    "#### Bayesian analysis of data\n",
    "\n",
    "For each state data the procedure is exactly the same as in the previous example, applying a Dirichlet-Multinomial analysis.\n",
    "\n",
    "To this end a `prob.Obama` function for a single state analysis is repeatedly called by means of the `sapply` function (see the R-Bloggers tutorial article [Using apply, sapply, lapply in R](https://www.r-bloggers.com/using-apply-sapply-lapply-in-r/))."
   ]
  },
  {
   "cell_type": "code",
   "execution_count": null,
   "metadata": {},
   "outputs": [],
   "source": [
    "prob.Obama<-function(j){\n",
    "    N<-5000                #number of simulations for Dirichlet posterior distributions\n",
    "    alpha.prior<-c(1,1,1)\n",
    "    sample.size<-500       #poll sample size in each state\n",
    "    poll.props<-c(M.pct[j],O.pct[j],100-M.pct[j]-O.pct[j])/100\n",
    "    poll.y<-sample.size*poll.props\n",
    "    alpha.post<-alpha.prior+poll.y\n",
    "    p<-rdirichlet(N,alpha.post)\n",
    "    mean(p[,2]>p[,1])\n",
    "    }\n",
    "\n",
    "Obama.win.probs<-sapply(1:51,prob.Obama)"
   ]
  },
  {
   "cell_type": "markdown",
   "metadata": {},
   "source": [
    "Now the resulting `Obama.win.probs` vector of estimated probabilities of winning in each of the 51 states is used to predict the actual number of electoral votes obtained, by simulating a binary Bernoulli variable for each state and summing up the result. Then this simulated election is performed `N1` times by means of the `replicate` function."
   ]
  },
  {
   "cell_type": "code",
   "execution_count": null,
   "metadata": {},
   "outputs": [],
   "source": [
    "sim.election<-function(){\n",
    "    winner<-rbinom(51,1,Obama.win.probs)  \n",
    "    sum(EV*winner)         \n",
    "    }\n",
    "N1<-2000\n",
    "sim.EV<-replicate(N1,sim.election())"
   ]
  },
  {
   "cell_type": "markdown",
   "metadata": {},
   "source": [
    "Now we summarize the resulting list of predictions of the number of Obama's electoral votes, which we compare to the now known number in real-life election:"
   ]
  },
  {
   "cell_type": "code",
   "execution_count": null,
   "metadata": {},
   "outputs": [],
   "source": [
    "options(repr.plot.width=7,repr.plot.height=7)\n",
    "hist(sim.EV,min(sim.EV):max(sim.EV),col=\"cyan\",main=paste(\"Result of \",N1,\" simulations.\"))\n",
    "abline(v=365,lwd=3,col=\"DarkBlue\")  # Obama received 365 votes\n",
    "text(375,30,\"Actual \\n Obama \\n total\")"
   ]
  },
  {
   "cell_type": "markdown",
   "metadata": {},
   "source": [
    "# Case study 3: US 2012 election"
   ]
  },
  {
   "cell_type": "markdown",
   "metadata": {},
   "source": [
    "You can check the following R-Bloggers entry, with accompanying complete working code, by C. W. Stevenson: [R Code for Election Posterior Distribution From a Random Sample](https://www.r-bloggers.com/r-code-for-election-posterior-distribution-from-a-random-sample/), where he uses the same functions as Jim Albert towards a Bayesian treament of election data, with slightly different notations and data from the US 2012 presidential election."
   ]
  },
  {
   "cell_type": "markdown",
   "metadata": {},
   "source": [
    "_Remark:_ Stevenson uses the `rdirichlet()` function from the `gtools` package to generate random Dirichlet samples. Apart from minor syntax quirks, this function is identical to the `rdirichlet()` function from the `LearnBayes` package. \n",
    "\n",
    "Both are based on the property that the sum of $k$ independently distributed Gamma distributions $X_1,\\dots,X_k$ with the same rate parameter $\\beta$ and shape parameters $\\alpha_1,\\dots,\\alpha_k$, respectively, is another Gamma distribution:\n",
    "\n",
    "$$\n",
    "        S=\\sum_{i=1}^{k}X_i \\sim \\operatorname{Gamma}(A,\\beta),\n",
    "        \\quad\\text{where }A=\\sum_{i=1}^{k}\\alpha_i,\n",
    "$$\n",
    "\n",
    "and, furthermore, the vector of the quotients:\n",
    "    \n",
    "$$\n",
    "   \\mathbf{Y}=(Y_1,\\dots,Y_k)= (X_1/S,\\dots,X_k/S)\\sim\\operatorname{Dirichlet}(\\boldsymbol{\\alpha}).\n",
    "$$\n",
    "\n",
    "has a $k$-dimensional Dirichlet distribution with vector parameter $\\boldsymbol{\\alpha}=(\\alpha_1,\\dots,\\alpha_k)$."
   ]
  },
  {
   "cell_type": "code",
   "execution_count": null,
   "metadata": {},
   "outputs": [],
   "source": [
    "#\n",
    "# Insert here the article code and follow its computations.\n",
    "#"
   ]
  }
 ],
 "metadata": {
  "kernelspec": {
   "display_name": "R",
   "language": "R",
   "name": "ir"
  },
  "language_info": {
   "codemirror_mode": "r",
   "file_extension": ".r",
   "mimetype": "text/x-r-source",
   "name": "R",
   "pygments_lexer": "r",
   "version": "4.1.2"
  }
 },
 "nbformat": 4,
 "nbformat_minor": 4
}
