{
 "cells": [
  {
   "cell_type": "markdown",
   "metadata": {},
   "source": [
    "# Poisson-Gamma model\n",
    "\n",
    "# _Josep Fortiana_ $\\hskip6cm$ 2022-03-28\n",
    "\n",
    "### Adapted from [Brian Reich - NC State University](https://statistics.sciences.ncsu.edu/people/bjreich/) - [Poisson/Gamma model](https://www4.stat.ncsu.edu/~bjreich/BSMdata/JAGS2.html)"
   ]
  },
  {
   "cell_type": "markdown",
   "metadata": {},
   "source": [
    "***\n",
    "###### LaTeX macros\n",
    "$\\def\\prob{P}$\n",
    "$\\def\\argmax{\\operatorname{arg\\,max}}$\n",
    "$\\def\\argmin{\\operatorname{arg\\,min}}$\n",
    "$\\def\\borel{\\operatorname{Borel}}$\n",
    "$\\def\\cE{\\cal E}$\n",
    "$\\def\\cP{\\cal P}$\n",
    "$\\def\\R{\\mathbb{R}}$ \n",
    "$\\def\\N{\\mathbb{N}}$\n",
    "$\\def\\Z{\\mathbb{Z}}$\n",
    "$\\def\\Ee{\\operatorname{E}}$\n",
    "$\\def\\va{\\text{v.a.}}$\n",
    "$\\def\\var{\\operatorname{var}}$\n",
    "$\\def\\cov{\\operatorname{cov}}$\n",
    "$\\def\\cor{\\operatorname{cor}}$\n",
    "$\\def\\binomdist{\\operatorname{Binom}}$\n",
    "$\\def\\berndist{\\operatorname{Ber}}$\n",
    "$\\def\\betabinomdist{\\operatorname{Beta-Binom}}$\n",
    "$\\def\\betadist{\\operatorname{Beta}}$\n",
    "$\\def\\gammadist{\\operatorname{Gamma}}$\n",
    "$\\def\\hyperdist{\\operatorname{Hypergeom}}$\n",
    "$\\def\\hypergeomdist{\\operatorname{Hypergeom}}$\n",
    "$\\def\\poissondist{\\operatorname{Poisson}}$\n",
    "$\\def\\geomdist{\\operatorname{Geom}}$\n",
    "$\\def\\normaldist{\\operatorname{N}}$\n",
    "$\\def\\unifdist{\\operatorname{Unif}}$\n",
    "$\\DeclareMathOperator{\\indica}{\\mathbb{1}}$\n",
    "$\\def\\CondTo{\\mathbin{|\\mskip0.5mu}}$\n",
    "***"
   ]
  },
  {
   "cell_type": "markdown",
   "metadata": {},
   "source": [
    "# 00 - Data and model"
   ]
  },
  {
   "cell_type": "markdown",
   "metadata": {},
   "source": [
    "We sample **$n$ square miles** of the state and observe **$y\\in\\{0,1,2,\\dots\\}$ animals** of the species of interest. \n",
    "\n",
    "Our objective is to describe the number $\\lambda$ of animals per square mile. The statistical model (likelihood and prior) is:\n",
    "\n",
    "$$\n",
    "    y\\,|\\,\\lambda\\sim\\poissondist(n\\cdot\\lambda),\\mskip50mu \\lambda\\sim\\gammadist(\\alpha,\\beta).\n",
    "$$"
   ]
  },
  {
   "cell_type": "markdown",
   "metadata": {},
   "source": [
    "## Problem constant ($n$) and observed data ($y$)"
   ]
  },
  {
   "cell_type": "code",
   "execution_count": null,
   "metadata": {},
   "outputs": [],
   "source": [
    "n<-20\n",
    "y<-11"
   ]
  },
  {
   "cell_type": "markdown",
   "metadata": {},
   "source": [
    "## Prior parameters"
   ]
  },
  {
   "cell_type": "markdown",
   "metadata": {},
   "source": [
    "The expectation of a $\\gammadist(a,b)$ is $a/b$ and its variance is $a/b^2$."
   ]
  },
  {
   "cell_type": "code",
   "execution_count": null,
   "metadata": {},
   "outputs": [],
   "source": [
    "prior.a<-0.5\n",
    "prior.b<-0.5"
   ]
  },
  {
   "cell_type": "markdown",
   "metadata": {},
   "source": [
    "# 01 - Exact treatment, using the conjugate property"
   ]
  },
  {
   "cell_type": "markdown",
   "metadata": {},
   "source": [
    "The prior is $\\gammadist(\\alpha,\\beta)$. Given the observed $y$ in $n$ square miles, the posterior is: \n",
    "\n",
    "$$\n",
    "    \\lambda\\,|\\,y\\sim\\gammadist(\\alpha',\\beta').\n",
    "$$\n",
    "\n",
    "$$\n",
    "    \\left\\{\\begin{array}{lcl}\n",
    "    \\alpha'  &=& \\alpha+y,\\\\[0.25cm]\n",
    "    \\beta'   &=& \\beta+n.\n",
    "    \\end{array}\\right.\n",
    "$$\n",
    "\n",
    "Therefore, the posterior mean, standard deviation, and 90% interval can be found exactly."
   ]
  },
  {
   "cell_type": "code",
   "execution_count": null,
   "metadata": {},
   "outputs": [],
   "source": [
    "posterior.a<-prior.a+y\n",
    "posterior.b<-prior.b+n"
   ]
  },
  {
   "cell_type": "code",
   "execution_count": null,
   "metadata": {},
   "outputs": [],
   "source": [
    "# Posterior mean \n",
    "round(posterior.a/posterior.b,5)                  "
   ]
  },
  {
   "cell_type": "code",
   "execution_count": null,
   "metadata": {},
   "outputs": [],
   "source": [
    "# Posterior sd \n",
    "round(sqrt(posterior.a)/posterior.b,5)                    "
   ]
  },
  {
   "cell_type": "code",
   "execution_count": null,
   "metadata": {},
   "outputs": [],
   "source": [
    "# Posterior (quantile-centered) 90% interval\n",
    "round(qgamma(c(0.025,0.975),shape=posterior.a,rate=posterior.b),5)     "
   ]
  },
  {
   "cell_type": "markdown",
   "metadata": {},
   "source": [
    "# 02 - Numerical treatment with discretization"
   ]
  },
  {
   "cell_type": "markdown",
   "metadata": {},
   "source": [
    "## Discretization grid"
   ]
  },
  {
   "cell_type": "code",
   "execution_count": null,
   "metadata": {},
   "outputs": [],
   "source": [
    "# Interval [0,2] determined to contain most of the gamma probability (gamma density near 0)\n",
    "# Grid of lambda values\n",
    "grid<-seq(0.01,2,by=0.01)    "
   ]
  },
  {
   "cell_type": "markdown",
   "metadata": {},
   "source": [
    "## Likelihood, prior, posterior"
   ]
  },
  {
   "cell_type": "code",
   "execution_count": null,
   "metadata": {},
   "outputs": [],
   "source": [
    "Lik <- dpois(y,n*grid)\n",
    "Lik <- Lik/sum(Lik)                     #standardize\n",
    "\n",
    "Prior <- dgamma(grid,prior.a,prior.b)\n",
    "Prior <- Prior/sum(Prior)               #standardize\n",
    "\n",
    "Joint  <- Lik*Prior\n",
    "\n",
    "Post   <- Joint/sum(Joint)"
   ]
  },
  {
   "cell_type": "markdown",
   "metadata": {},
   "source": [
    "## Plots"
   ]
  },
  {
   "cell_type": "code",
   "execution_count": null,
   "metadata": {},
   "outputs": [],
   "source": [
    "options(repr.plot.width=6.5,repr.plot.height=6.5)\n",
    "plot(grid,Lik,type=\"l\",lty=3,col=\"blue\",cex.lab=1.5,lwd=3,\n",
    "     ylim=c(0,0.025),xlab=expression(lambda),ylab=\"Density\",main=\"Prior, posterior, likelihood\",\n",
    "     cex.lab=1.3,cex.main=1.5)\n",
    "lines(grid,Prior,col=\"cyan\",lwd=3)\n",
    "lines(grid,Post,col=\"magenta\",lwd=3)\n",
    "legend(\"topright\",c(\"Likelihood\",\"Prior\",\"Posterior\"),lwd=c(3,3,3),lty=c(3,1,1),col=c(\"blue\",\"cyan\",\"magenta\"),inset=0.05)"
   ]
  },
  {
   "cell_type": "markdown",
   "metadata": {},
   "source": [
    "# 03 - JAGS treatment with `rjags`"
   ]
  },
  {
   "cell_type": "code",
   "execution_count": null,
   "metadata": {},
   "outputs": [],
   "source": [
    "#install.packages(\"rjags\",repos= \"https://cloud.r-project.org\")\n",
    "require(rjags)"
   ]
  },
  {
   "cell_type": "markdown",
   "metadata": {},
   "source": [
    "## Write model data"
   ]
  },
  {
   "cell_type": "code",
   "execution_count": null,
   "metadata": {},
   "outputs": [],
   "source": [
    "Poiss.01.data<-list(y=y,n=n,a=prior.a,b=prior.b)\n",
    "Poiss.01.model_string <- \"model{\n",
    "  # Likelihood (can't have formulas in distribution functions)\n",
    "  y  ~  dpois(mu)\n",
    "  mu <- n*lambda\n",
    "  # Prior\n",
    "  lambda ~ dgamma(a, b)\n",
    " }\""
   ]
  },
  {
   "cell_type": "markdown",
   "metadata": {},
   "source": [
    "## Compile model"
   ]
  },
  {
   "cell_type": "code",
   "execution_count": null,
   "metadata": {},
   "outputs": [],
   "source": [
    "Poiss.01.model <- jags.model(textConnection(Poiss.01.model_string), data = Poiss.01.data)"
   ]
  },
  {
   "cell_type": "markdown",
   "metadata": {},
   "source": [
    "## Generate and summarize samples"
   ]
  },
  {
   "cell_type": "code",
   "execution_count": null,
   "metadata": {},
   "outputs": [],
   "source": [
    "update(Poiss.01.model, 10000, progress.bar=\"none\")"
   ]
  },
  {
   "cell_type": "code",
   "execution_count": null,
   "metadata": {},
   "outputs": [],
   "source": [
    "Poiss.01.samples <- coda.samples(Poiss.01.model,variable.names=c(\"lambda\"),n.iter=20000, progress.bar=\"none\")\n",
    "summary(Poiss.01.samples)"
   ]
  },
  {
   "cell_type": "code",
   "execution_count": null,
   "metadata": {},
   "outputs": [],
   "source": [
    "options(repr.plot.width=13,repr.plot.height=6.5)\n",
    "plot(Poiss.01.samples)"
   ]
  },
  {
   "cell_type": "markdown",
   "metadata": {},
   "source": [
    "# 04 - Stan treatment "
   ]
  },
  {
   "cell_type": "code",
   "execution_count": null,
   "metadata": {},
   "outputs": [],
   "source": [
    "#install.packages(\"rstan\", dependencies=TRUE,repos= \"https://cloud.r-project.org\")\n",
    "require(rstan)"
   ]
  },
  {
   "cell_type": "code",
   "execution_count": null,
   "metadata": {},
   "outputs": [],
   "source": [
    "# Following directions:\n",
    "# For execution on a local, multicore CPU with excess RAM we recommend calling\n",
    "# options(mc.cores = parallel::detectCores()).\n",
    "# To avoid recompilation of unchanged Stan programs, we recommend calling\n",
    "# rstan_options(auto_write = TRUE)\n",
    "options(mc.cores = parallel::detectCores())\n",
    "rstan_options(auto_write = TRUE)"
   ]
  },
  {
   "cell_type": "markdown",
   "metadata": {},
   "source": [
    "## Specify model"
   ]
  },
  {
   "cell_type": "code",
   "execution_count": null,
   "metadata": {},
   "outputs": [],
   "source": [
    "modelString = \"\n",
    "  data{\n",
    "    int<lower=0> n ;\n",
    "    int<lower=0> y ; \n",
    "    real<lower=0> a ;\n",
    "    real<lower=0> b ;\n",
    "    }\n",
    "  parameters{\n",
    "    real<lower=0> lambda ;\n",
    "    }\n",
    "  model{\n",
    "    lambda ~ gamma(a,b) ;\n",
    "    y ~ poisson(n*lambda) ; \n",
    "    }\""
   ]
  },
  {
   "cell_type": "markdown",
   "metadata": {},
   "source": [
    "## Compile model and sample from the posterior pdf"
   ]
  },
  {
   "cell_type": "code",
   "execution_count": null,
   "metadata": {},
   "outputs": [],
   "source": [
    "# Translate model to C++ and compile to DSO:\n",
    "stanDso <- stan_model( model_code=modelString ) "
   ]
  },
  {
   "cell_type": "code",
   "execution_count": null,
   "metadata": {},
   "outputs": [],
   "source": [
    "# Specify data:\n",
    "n<-20\n",
    "y<-11\n",
    "prior.a<-0.5\n",
    "prior.b<-0.5\n",
    "a <- prior.a\n",
    "b <- prior.b\n",
    "dataList = list(n=n,y=y,a=a,b=b)"
   ]
  },
  {
   "cell_type": "code",
   "execution_count": null,
   "metadata": {},
   "outputs": [],
   "source": [
    "# Generate posterior sample:\n",
    "stanFit <- sampling( object=stanDso, \n",
    "                     data = dataList, \n",
    "                     chains = 3,\n",
    "                     iter = 3000, \n",
    "                     warmup = 200, \n",
    "                     thin = 1)"
   ]
  },
  {
   "cell_type": "code",
   "execution_count": null,
   "metadata": {},
   "outputs": [],
   "source": [
    "S<-summary(stanFit)\n",
    "round(S$summary,5)"
   ]
  },
  {
   "cell_type": "markdown",
   "metadata": {},
   "source": [
    "# Diagnostic diagrams with the `bayesplot` package"
   ]
  },
  {
   "cell_type": "code",
   "execution_count": null,
   "metadata": {},
   "outputs": [],
   "source": [
    "#install.packages(\"bayesplot\", dependencies=TRUE,repos= \"https://cloud.r-project.org\")\n",
    "require(bayesplot)"
   ]
  },
  {
   "cell_type": "code",
   "execution_count": null,
   "metadata": {},
   "outputs": [],
   "source": [
    "color_scheme_set(\"green\")\n",
    "options(repr.plot.width=10,repr.plot.height=6)\n",
    "mcmc_trace(stanFit, pars = c(\"lambda\"))"
   ]
  },
  {
   "cell_type": "code",
   "execution_count": null,
   "metadata": {},
   "outputs": [],
   "source": [
    "options(repr.plot.width=10,repr.plot.height=6)\n",
    "mcmc_acf(stanFit,pars=c(\"lambda\"))"
   ]
  },
  {
   "cell_type": "code",
   "execution_count": null,
   "metadata": {},
   "outputs": [],
   "source": [
    "color_scheme_set(\"viridisC\")\n",
    "options(repr.plot.width=10,repr.plot.height=6)\n",
    "mcmc_acf_bar(stanFit,pars=c(\"lambda\"))"
   ]
  },
  {
   "cell_type": "markdown",
   "metadata": {},
   "source": [
    "# Analysis of posterior pdf properties"
   ]
  },
  {
   "cell_type": "markdown",
   "metadata": {},
   "source": [
    "### Posterior credible interval "
   ]
  },
  {
   "cell_type": "code",
   "execution_count": null,
   "metadata": {},
   "outputs": [],
   "source": [
    "color_scheme_set(\"yellow\")\n",
    "options(repr.plot.width=7,repr.plot.height=4)\n",
    "mcmc_intervals(stanFit, pars = c(\"lambda\"),prob=0.75,prob_outer=0.95)\n",
    "# Defaults are\n",
    "# prob = 0.5,\n",
    "# prob_outer = 0.9,"
   ]
  },
  {
   "cell_type": "markdown",
   "metadata": {},
   "source": [
    "### Areas diagram"
   ]
  },
  {
   "cell_type": "code",
   "execution_count": null,
   "metadata": {},
   "outputs": [],
   "source": [
    "options(repr.plot.width=7,repr.plot.height=7)\n",
    "mcmc_areas(stanFit, pars = c(\"lambda\"),prob=0.75,prob_outer=0.95)"
   ]
  },
  {
   "cell_type": "markdown",
   "metadata": {},
   "source": [
    "### Histogram"
   ]
  },
  {
   "cell_type": "code",
   "execution_count": null,
   "metadata": {},
   "outputs": [],
   "source": [
    "color_scheme_set(\"brightblue\")\n",
    "options(repr.plot.width=7,repr.plot.height=7)\n",
    "mcmc_hist(stanFit, pars = c(\"lambda\"),binwidth=0.05)"
   ]
  },
  {
   "cell_type": "markdown",
   "metadata": {},
   "source": [
    "### Density plot"
   ]
  },
  {
   "cell_type": "code",
   "execution_count": null,
   "metadata": {},
   "outputs": [],
   "source": [
    "options(repr.plot.width=7,repr.plot.height=7)\n",
    "mcmc_dens(stanFit, pars = c(\"lambda\"))"
   ]
  },
  {
   "cell_type": "code",
   "execution_count": null,
   "metadata": {},
   "outputs": [],
   "source": [
    "color_scheme_set(\"viridisE\")\n",
    "options(repr.plot.width=7,repr.plot.height=7)\n",
    "mcmc_dens_chains(stanFit, pars = c(\"lambda\"))"
   ]
  },
  {
   "cell_type": "markdown",
   "metadata": {},
   "source": [
    "### Violin plot"
   ]
  },
  {
   "cell_type": "code",
   "execution_count": null,
   "metadata": {},
   "outputs": [],
   "source": [
    "color_scheme_set(\"brightblue\")\n",
    "options(repr.plot.width=7,repr.plot.height=7)\n",
    "mcmc_violin(stanFit, pars = c(\"lambda\"))"
   ]
  },
  {
   "cell_type": "code",
   "execution_count": null,
   "metadata": {},
   "outputs": [],
   "source": []
  }
 ],
 "metadata": {
  "kernelspec": {
   "display_name": "R",
   "language": "R",
   "name": "ir"
  },
  "language_info": {
   "codemirror_mode": "r",
   "file_extension": ".r",
   "mimetype": "text/x-r-source",
   "name": "R",
   "pygments_lexer": "r",
   "version": "4.1.2"
  }
 },
 "nbformat": 4,
 "nbformat_minor": 4
}
