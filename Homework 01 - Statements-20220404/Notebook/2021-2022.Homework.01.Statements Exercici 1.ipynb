{
 "cells": [
  {
   "cell_type": "markdown",
   "id": "indoor-catalyst",
   "metadata": {
    "tags": []
   },
   "source": [
    "<h1 style=\"color:blue\"> Bayesian Statistics and Probabilistic Programming</h1>\n",
    "\n",
    "<h1 style=\"color:blue\"> Spring 2022 - Homework 01</h1>\n",
    "\n",
    "<h3 style=\"color:blue\">2022-04-04</h3>"
   ]
  },
  {
   "cell_type": "markdown",
   "id": "occasional-trigger",
   "metadata": {
    "tags": []
   },
   "source": [
    "***\n",
    "###### LaTeX macros\n",
    "$\\def\\prob{P}$\n",
    "$\\def\\argmax{\\operatorname{arg\\,max}}$\n",
    "$\\def\\argmin{\\operatorname{arg\\,min}}$\n",
    "$\\def\\borel{\\operatorname{Borel}}$\n",
    "$\\def\\cE{\\cal E}$\n",
    "$\\def\\cP{\\cal P}$\n",
    "$\\def\\R{\\mathbb{R}}$ \n",
    "$\\def\\N{\\mathbb{N}}$\n",
    "$\\def\\Z{\\mathbb{Z}}$\n",
    "$\\def\\Ee{\\operatorname{E}}$\n",
    "$\\def\\va{\\text{v.a.}}$\n",
    "$\\def\\var{\\operatorname{var}}$\n",
    "$\\def\\cov{\\operatorname{cov}}$\n",
    "$\\def\\cor{\\operatorname{cor}}$\n",
    "$\\def\\binomdist{\\operatorname{Binom}}$\n",
    "$\\def\\berndist{\\operatorname{Ber}}$\n",
    "$\\def\\betabinomdist{\\operatorname{Beta-Binom}}$\n",
    "$\\def\\betadist{\\operatorname{Beta}}$\n",
    "$\\def\\expdist{\\operatorname{Exponential}}$\n",
    "$\\def\\gammadist{\\operatorname{Gamma}}$\n",
    "$\\def\\hyperdist{\\operatorname{Hypergeom}}$\n",
    "$\\def\\hypergeomdist{\\operatorname{Hypergeom}}$\n",
    "$\\DeclareMathOperator{\\multinomialdist}{Multinomial}$\n",
    "$\\DeclareMathOperator{\\multinomdist}{Multinom}$\n",
    "$\\def\\poissondist{\\operatorname{Poisson}}$\n",
    "$\\def\\geomdist{\\operatorname{Geom}}$\n",
    "$\\def\\normaldist{\\operatorname{N}}$\n",
    "$\\def\\unifdist{\\operatorname{Unif}}$\n",
    "$\\DeclareMathOperator{\\indica}{\\mathbb{1}}$\n",
    "$\\def\\CondTo{\\mathbin{|\\mskip0.5mu}}$\n",
    "***"
   ]
  },
  {
   "cell_type": "markdown",
   "id": "floppy-carbon",
   "metadata": {},
   "source": [
    "<h1 style=\"color:blue\">Instructions</h1>"
   ]
  },
  {
   "cell_type": "markdown",
   "id": "70c9392f-68be-443f-869f-3d11500d23d8",
   "metadata": {},
   "source": [
    "### Submissions: \n",
    "\n",
    "By **groups** of _about_ three students (meaning: two is OK, four is not advisable but possible. Individual homeworks \n",
    "will also be accepted but collaborative work is preferable). \n",
    "\n",
    "Please send me an **email** with the team members names as soon as you have formed it.\n",
    "\n",
    "Only **one copy** of each group's work must be uploaded (by any member)"
   ]
  },
  {
   "cell_type": "markdown",
   "id": "205b1149-7745-4070-af12-b16374a0b741",
   "metadata": {},
   "source": [
    "### Format: \n",
    "\n",
    "A Jupyter or R Markdown **notebook,** with a **header** clearly stating the names of all contributors. "
   ]
  },
  {
   "cell_type": "markdown",
   "id": "c7ffc8d7-72ad-4915-a21b-863c669d439d",
   "metadata": {
    "tags": []
   },
   "source": [
    "### Documentation: \n",
    "\n",
    "Comments **in code cells** (e.g., meaning of variables, parameters, purpose of functions) are necessary but not sufficient.\n",
    "\n",
    "You are expected to give full explanations of steps taken in your solution (in **Markdown cells**), as well as discussion of results and their meaning.\n",
    "\n",
    "Do not drear being too verbose or too elementary."
   ]
  },
  {
   "cell_type": "markdown",
   "id": "de26c667-4256-4b2a-bfb8-cc11bc9a10bb",
   "metadata": {},
   "source": [
    "### External sources\n",
    "\n",
    "Getting inspiration from any book, document, blog, wep page, even mimicking solutions given in there, is **allowed and encouraged,** provided you give a **proper reference,**\n",
    "understand every such material, and explain it in you own words, even more exhaustively.\n",
    "\n",
    "Dare not **copy/paste literally.** I do detect it, believe me, even with a missing source reference. Bleak consequences."
   ]
  },
  {
   "cell_type": "markdown",
   "id": "52ca45a3-4eab-4ff4-94d1-0fac33d6e15a",
   "metadata": {},
   "source": [
    "### Deadline:\n",
    "\n",
    "Completed assignments are due on Tuesday, April 19. They are to be uploaded to the Virtual Campus."
   ]
  },
  {
   "cell_type": "markdown",
   "id": "acceptable-lender",
   "metadata": {},
   "source": [
    "<h1 style=\"color:blue\">01 - Stan version of a conjugate prior problem</h1>\n",
    "\n",
    "<h2 style=\"color:blue\">Modelling Earthquake Waiting Times</h2>"
   ]
  },
  {
   "cell_type": "markdown",
   "id": "exceptional-marina",
   "metadata": {},
   "source": [
    "Consider the problem in `Exponential.02.Earthquake` (notebook in 2022-03-28 folder), where the goal is to study earthquake waiting times.\n",
    "\n",
    "Likelihood is modelled as an $\\expdist(\\lambda)$ and $\\lambda$ is given a conjugate prior, $\\lambda\\sim\\gammadist(\\alpha,\\beta)$.\n",
    "\n",
    "In this notebook some simulations are performed for:\n",
    "\n",
    "01. Prior pdf for $\\lambda$.\n",
    "02. Prior predictive pdf for the waiting time.\n",
    "03. Posterior pdf for $\\lambda$.\n",
    "04. Posterior predictive for new waiting time.\n",
    "\n",
    "In `Exponential.02.Earthquake` we use known theoretical (analytical) descriptions of these distributions.\n",
    "\n",
    "Your task is to redo these simulations using Stan, disregarding analytical conjugate prior formulas, and then comparing your results to the analytical ones. Use this comparison to tune up adjustable parameters in Stan sampling, such as chain length. "
   ]
  },
  {
   "cell_type": "markdown",
   "id": "c6e2c836",
   "metadata": {},
   "source": [
    "## Answer"
   ]
  },
  {
   "cell_type": "markdown",
   "id": "e8c8302e",
   "metadata": {},
   "source": [
    "First let's frame the problem we want to study, as it is explained in the aforementioned notebook. We want to build a bayesian model for waiting times between serious earthquakes. If we assume that:\n",
    "\n",
    "1. Earthquakes are independent\n",
    "2. The rate at which earthquakes occur does not change during the year \n",
    "3. The earthquake hazard rate does not change\n",
    "\n",
    "then we can use an iid exponential model. The days of the year where major earhquakes happened are the following:\n",
    "\n",
    "    January 4, January 20, January 28, May 22, July 21, July 25, August 17, September 16, December 30. \n",
    "    \n",
    "Therefore our data vector will be \n",
    "\n",
    "$$\n",
    "    \\begin{array}{lcl}\n",
    "    y &= &(3, 16, 8, 114, 60, 4, 23, 30, 105).\n",
    "    \\end{array}\n",
    "$$\n",
    "\n",
    "Let $Y_{i}$ denote the waiting time in days between the $i$-th earthquake and the following earthquake. Then our model is \n",
    "\n",
    "$$\n",
    "    Y_{i}\\mskip8mu\\text{i.i.d.}\\sim\\mskip8mu\\operatorname{Exponential}(\\lambda),\n",
    "$$\n",
    "\n",
    "and the expected waiting time between earthquakes is $\\operatorname{E}(Y)=1/\\lambda$ days. "
   ]
  },
  {
   "cell_type": "markdown",
   "id": "2e557600",
   "metadata": {},
   "source": [
    "### Prior distribution"
   ]
  },
  {
   "cell_type": "markdown",
   "id": "7d3b0114",
   "metadata": {},
   "source": [
    "We will assume that the prior follows a gamma distribution $\\lambda\\sim\\operatorname{Gamma}(\\alpha,\\beta)$. The combination of modelling the prior as a Gamma distribution and the likelihood as an exponential makes the prior a conjugate prior, meaning that the posterior distribution will also be a Gamma.\n",
    "\n",
    "Suppose our prior belief is that the expected time between earthquakes is $30$ days. This means that our prior expectation for $\\lambda$ is $1/30$, and since the gamma expectation is $\\alpha/\\beta$, we have that $\\alpha/\\beta=1/30$. However, there are infinitely many combinations for $\\alpha$ and $\\beta$. \n",
    "\n",
    "It turns out that in the exponential-gamma model, $\\alpha$ is the prior effective sample size (this is, \"virtual\" observations that will affect the posterior distribution), so if we set this parameter to a fixed value we will also determine $\\beta$. The larger the value that $\\alpha$ is set, the stronger weight our prior belief will have in determining the posterior, and consequently the less weight the observed data will have. \n",
    "\n",
    "In our case we will follow the teacher approach and we will set $\\alpha=1$, and therefore $\\beta=30$. \n",
    "\n",
    "The expectation, variance and standard deviation for the prior distribution are printed below."
   ]
  },
  {
   "cell_type": "code",
   "execution_count": 1,
   "id": "6dfc4902",
   "metadata": {},
   "outputs": [
    {
     "data": {
      "text/html": [
       "0.0333"
      ],
      "text/latex": [
       "0.0333"
      ],
      "text/markdown": [
       "0.0333"
      ],
      "text/plain": [
       "[1] 0.0333"
      ]
     },
     "metadata": {},
     "output_type": "display_data"
    },
    {
     "data": {
      "text/html": [
       "0.0011"
      ],
      "text/latex": [
       "0.0011"
      ],
      "text/markdown": [
       "0.0011"
      ],
      "text/plain": [
       "[1] 0.0011"
      ]
     },
     "metadata": {},
     "output_type": "display_data"
    },
    {
     "data": {
      "text/html": [
       "0.0333"
      ],
      "text/latex": [
       "0.0333"
      ],
      "text/markdown": [
       "0.0333"
      ],
      "text/plain": [
       "[1] 0.0333"
      ]
     },
     "metadata": {},
     "output_type": "display_data"
    }
   ],
   "source": [
    "prior.a<-1\n",
    "prior.b<-30\n",
    "\n",
    "Theor.lambda.mean<-prior.a/prior.b\n",
    "# Theor.lambda.mode<-(prior.a-1)/prior.b  # For alpha>1, 0 for alpha=1.\n",
    "Theor.lambda.var<-prior.a/prior.b^2\n",
    "Theor.lambda.sd<-sqrt(Theor.lambda.var)\n",
    "round(Theor.lambda.mean,4)\n",
    "round(Theor.lambda.var,4)\n",
    "round(Theor.lambda.sd,4)"
   ]
  },
  {
   "cell_type": "markdown",
   "id": "37e807ab",
   "metadata": {},
   "source": [
    "Using the code provided by the teacher in the notebook mentioned above, let's sample some data and also plot the density of the distribution."
   ]
  },
  {
   "cell_type": "code",
   "execution_count": 25,
   "id": "07bfc0f4",
   "metadata": {},
   "outputs": [
    {
     "name": "stdout",
     "output_type": "stream",
     "text": [
      " num [1:100000] 0.0629 0.0392 0.0356 0.0329 0.0289 ...\n"
     ]
    },
    {
     "data": {
      "text/plain": [
       "     Min.   1st Qu.    Median      Mean   3rd Qu.      Max. \n",
       "0.0000006 0.0096947 0.0232918 0.0333735 0.0463249 0.4096135 "
      ]
     },
     "metadata": {},
     "output_type": "display_data"
    },
    {
     "data": {
      "text/html": [
       "<style>\n",
       ".dl-inline {width: auto; margin:0; padding: 0}\n",
       ".dl-inline>dt, .dl-inline>dd {float: none; width: auto; display: inline-block}\n",
       ".dl-inline>dt::after {content: \":\\0020\"; padding-right: .5ex}\n",
       ".dl-inline>dt:not(:first-of-type) {padding-left: .5ex}\n",
       "</style><dl class=dl-inline><dt>2.5%</dt><dd>0</dd><dt>25%</dt><dd>0.01</dd><dt>50%</dt><dd>0.02</dd><dt>75%</dt><dd>0.05</dd><dt>97.5%</dt><dd>0.12</dd></dl>\n"
      ],
      "text/latex": [
       "\\begin{description*}\n",
       "\\item[2.5\\textbackslash{}\\%] 0\n",
       "\\item[25\\textbackslash{}\\%] 0.01\n",
       "\\item[50\\textbackslash{}\\%] 0.02\n",
       "\\item[75\\textbackslash{}\\%] 0.05\n",
       "\\item[97.5\\textbackslash{}\\%] 0.12\n",
       "\\end{description*}\n"
      ],
      "text/markdown": [
       "2.5%\n",
       ":   025%\n",
       ":   0.0150%\n",
       ":   0.0275%\n",
       ":   0.0597.5%\n",
       ":   0.12\n",
       "\n"
      ],
      "text/plain": [
       " 2.5%   25%   50%   75% 97.5% \n",
       " 0.00  0.01  0.02  0.05  0.12 "
      ]
     },
     "metadata": {},
     "output_type": "display_data"
    },
    {
     "data": {
      "text/html": [
       "0.12"
      ],
      "text/latex": [
       "0.12"
      ],
      "text/markdown": [
       "0.12"
      ],
      "text/plain": [
       "[1] 0.12"
      ]
     },
     "metadata": {},
     "output_type": "display_data"
    },
    {
     "name": "stdout",
     "output_type": "stream",
     "text": [
      " num [1:97500] 0.0629 0.0392 0.0356 0.0329 0.0289 ...\n"
     ]
    }
   ],
   "source": [
    "N<-100000\n",
    "Sim.lambda.prior<-rgamma(N,prior.a,prior.b)\n",
    "\n",
    "str(Sim.lambda.prior)\n",
    "summary(Sim.lambda.prior)\n",
    "q.Sim.lambda.prior<-quantile(Sim.lambda.prior,c(0.025,0.25,0.50,0.75,0.975))\n",
    "round(q.Sim.lambda.prior,2)\n",
    "lambdamax<-max(q.Sim.lambda.prior)\n",
    "round(lambdamax,2)\n",
    "Sim.lambda.prior.trunc<-Sim.lambda.prior[Sim.lambda.prior<lambdamax]  # truncate in order to be able to plot the histogram\n",
    "str(Sim.lambda.prior.trunc)"
   ]
  },
  {
   "cell_type": "code",
   "execution_count": 3,
   "id": "ddec6d81",
   "metadata": {},
   "outputs": [
    {
     "data": {
      "image/png": "[encoded data removed]",
      "text/plain": [
       "Plot with title \"Histogram of Sim.lambda.prior\""
      ]
     },
     "metadata": {
      "image/png": {
       "height": 420,
       "width": 420
      }
     },
     "output_type": "display_data"
    }
   ],
   "source": [
    "Theor.lambda.mean<-prior.a/prior.b\n",
    "# Theor.lambda.mode<-(prior.a-1)/prior.b  # For alpha>1, 0 for alpha=1.\n",
    "Theor.lambda.var<-prior.a/prior.b^2\n",
    "Theor.lambda.sd<-sqrt(Theor.lambda.var)\n",
    "\n",
    "# Plot histogram, compare with the theoretical Gamma pdf \n",
    "options(repr.plot.width=7,repr.plot.height=7)\n",
    "hist(Sim.lambda.prior,freq=FALSE,col=\"LightGreen\",xlab=expression(lambda),ylim=c(0,30),breaks=25)\n",
    "v<-seq(0,max(Sim.lambda.prior),length=1000)\n",
    "lines(v,dgamma(v,shape=prior.a,rate=prior.b),lwd=2.5,col=\"blue\")"
   ]
  },
  {
   "cell_type": "markdown",
   "id": "6bf818d2",
   "metadata": {},
   "source": [
    "### Prior predictive distribution"
   ]
  },
  {
   "cell_type": "markdown",
   "id": "ba1fdc2f",
   "metadata": {},
   "source": [
    "In the exponential-gamma model, the prior predictive distribution\n",
    "\n",
    "$$\n",
    "    p(Y) = \\int p(Y | \\lambda) p(\\lambda) d\\lambda\n",
    "$$\n",
    "\n",
    "follows a Pareto II (Lomax) distribution, with density \n",
    "\n",
    "$$\n",
    "    f(y)=\\dfrac{\\alpha\\cdot\\beta^{\\alpha}}{(y+\\beta)^{\\alpha+1}},\\mskip20mu y\\geq 0,\n",
    "$$\n",
    "\n",
    "The expectation and variance of this distribution are:\n",
    "\n",
    "$$\n",
    "    \\operatorname{E}(Y)=\\dfrac{\\beta}{\\alpha-1},\\mskip20mu\\alpha>1,\\mskip30mu\n",
    "    \\operatorname{var}(Y)=\\dfrac{\\beta^{2}\\,\\alpha}{(\\alpha-1)^{2}\\,(\\alpha-2)},\\mskip20mu \\alpha>2,\n",
    "$$\n",
    "\n",
    "In our case, since $\\alpha=1$ and $\\beta=30$,\n",
    "\n",
    "$$\n",
    "    f(y)=\\dfrac{30}{(y+30)^{2}},\\mskip20mu y\\geq 0,\n",
    "$$\n",
    "\n",
    "It is worth mentioning that since $\\alpha \\leq 1$, we have that there is no theoretical expectation nor variance.\n",
    "\n",
    "Let's sample some values of the distribution and also plot its density."
   ]
  },
  {
   "cell_type": "code",
   "execution_count": 26,
   "id": "ceac89ec",
   "metadata": {},
   "outputs": [
    {
     "name": "stdout",
     "output_type": "stream",
     "text": [
      " num [1:100000] 5.27 5.78 33.41 20.62 8.62 ...\n"
     ]
    },
    {
     "data": {
      "text/plain": [
       "     Min.   1st Qu.    Median      Mean   3rd Qu.      Max. \n",
       "      0.0       9.9      29.6     368.4      88.8 2145858.1 "
      ]
     },
     "metadata": {},
     "output_type": "display_data"
    },
    {
     "data": {
      "text/html": [
       "<style>\n",
       ".dl-inline {width: auto; margin:0; padding: 0}\n",
       ".dl-inline>dt, .dl-inline>dd {float: none; width: auto; display: inline-block}\n",
       ".dl-inline>dt::after {content: \":\\0020\"; padding-right: .5ex}\n",
       ".dl-inline>dt:not(:first-of-type) {padding-left: .5ex}\n",
       "</style><dl class=dl-inline><dt>2.5%</dt><dd>0.74</dd><dt>25%</dt><dd>9.89</dd><dt>50%</dt><dd>29.57</dd><dt>75%</dt><dd>88.76</dd><dt>97.5%</dt><dd>1185.18</dd></dl>\n"
      ],
      "text/latex": [
       "\\begin{description*}\n",
       "\\item[2.5\\textbackslash{}\\%] 0.74\n",
       "\\item[25\\textbackslash{}\\%] 9.89\n",
       "\\item[50\\textbackslash{}\\%] 29.57\n",
       "\\item[75\\textbackslash{}\\%] 88.76\n",
       "\\item[97.5\\textbackslash{}\\%] 1185.18\n",
       "\\end{description*}\n"
      ],
      "text/markdown": [
       "2.5%\n",
       ":   0.7425%\n",
       ":   9.8950%\n",
       ":   29.5775%\n",
       ":   88.7697.5%\n",
       ":   1185.18\n",
       "\n"
      ],
      "text/plain": [
       "   2.5%     25%     50%     75%   97.5% \n",
       "   0.74    9.89   29.57   88.76 1185.18 "
      ]
     },
     "metadata": {},
     "output_type": "display_data"
    },
    {
     "data": {
      "text/html": [
       "1185.18"
      ],
      "text/latex": [
       "1185.18"
      ],
      "text/markdown": [
       "1185.18"
      ],
      "text/plain": [
       "[1] 1185.18"
      ]
     },
     "metadata": {},
     "output_type": "display_data"
    },
    {
     "name": "stdout",
     "output_type": "stream",
     "text": [
      " num [1:97500] 5.27 5.78 33.41 20.62 8.62 ...\n"
     ]
    },
    {
     "data": {
      "image/png": "[encoded data removed]",
      "text/plain": [
       "Plot with title \"Histogram of Sim.y.trunc\""
      ]
     },
     "metadata": {
      "image/png": {
       "height": 300,
       "width": 360
      }
     },
     "output_type": "display_data"
    }
   ],
   "source": [
    "Theor.pred.pdf<-function(y,a,b){return(ifelse(y>0,a*b^{a}/(y+b)^(a+1),0))}\n",
    "\n",
    "# Simulate from the prior predictive. Likelihood is exponential with parameter lambda\n",
    "Sim.y<-rexp(N,rate=Sim.lambda.prior)\n",
    "\n",
    "str(Sim.y)\n",
    "summary(Sim.y)\n",
    "q.Sim.y<-quantile(Sim.y,c(0.025,0.25,0.50,0.75,0.975))\n",
    "round(q.Sim.y,2)\n",
    "ymax<-max(q.Sim.y)\n",
    "round(ymax,2)\n",
    "Sim.y.trunc<-Sim.y[Sim.y<ymax]  # truncate in order to be able to plot the histogram\n",
    "str(Sim.y.trunc)\n",
    "\n",
    "# Plot histogram, \n",
    "options(repr.plot.width=6,repr.plot.height=5)\n",
    "ymax<-max(q.Sim.y)\n",
    "u<-seq(0,ymax,length=1000)\n",
    "yu<-Theor.pred.pdf(u,a=prior.a,b=prior.b)\n",
    "hist(Sim.y.trunc,freq=FALSE,col=\"LightGreen\",breaks=c(min(Sim.y.trunc),q.Sim.y,max(Sim.y.trunc)),ylim=c(0,0.040))\n",
    "lines(u,yu,lwd=2.5,col=\"DarkGreen\")"
   ]
  },
  {
   "cell_type": "markdown",
   "id": "65d2924b",
   "metadata": {},
   "source": [
    "### Posterior distribution"
   ]
  },
  {
   "cell_type": "markdown",
   "id": "9702b683",
   "metadata": {},
   "source": [
    "As we mentioned above, the exponential-gamma model makes the prior a conjugate prior, meaning that the posterior follows the same distribution as the prior. The posterior pdf is $\\lambda\\sim\\operatorname{Gamma}(\\alpha',\\beta')$, with\n",
    "\n",
    "\n",
    "$$\n",
    "    \\left\\{\n",
    "    \\begin{array}{lcl}\n",
    "    \\alpha'&=&\\alpha+n,\\\\[0.2cm]\n",
    "    \\beta'&=&\\beta+n\\,\\overline{y}.\n",
    "    \\end{array}\\right.\n",
    "$$\n",
    "\n",
    "In our case, since $n=8$, $\\bar{y}=45$, $\\alpha=1$ and $\\beta=30$ we have that\n",
    "\n",
    "$$\n",
    "    \\left\\{\n",
    "    \\begin{array}{lcl}\n",
    "    \\alpha'&=&9,\\\\[0.2cm]\n",
    "    \\beta'&=&390.\n",
    "    \\end{array}\\right.\n",
    "$$\n",
    "\n",
    "The expectation, mode, variance and standard deviation of the posterior distribution are printed below."
   ]
  },
  {
   "cell_type": "code",
   "execution_count": 5,
   "id": "2204169d",
   "metadata": {},
   "outputs": [
    {
     "ename": "ERROR",
     "evalue": "Error in eval(expr, envir, enclos): object 'post.a' not found\n",
     "output_type": "error",
     "traceback": [
      "Error in eval(expr, envir, enclos): object 'post.a' not found\nTraceback:\n"
     ]
    }
   ],
   "source": [
    "Theor.lambda.post.mean<-post.a/post.b\n",
    "Theor.lambda.post.mode<-(post.a-1)/post.b  # For alpha>1, 0 for alpha=1.\n",
    "Theor.lambda.post.var<-post.a/post.b^2\n",
    "Theor.lambda.post.sd<-sqrt(Theor.lambda.post.var)\n",
    "round(Theor.lambda.post.mean,4)\n",
    "round(Theor.lambda.post.mode,4)\n",
    "round(Theor.lambda.post.var,6)\n",
    "round(Theor.lambda.post.sd,4)"
   ]
  },
  {
   "cell_type": "markdown",
   "id": "63002346",
   "metadata": {},
   "source": [
    "Next we sample some data from the posterior distribuion, and also plot its density."
   ]
  },
  {
   "cell_type": "code",
   "execution_count": 27,
   "id": "fa779792",
   "metadata": {},
   "outputs": [
    {
     "name": "stdout",
     "output_type": "stream",
     "text": [
      " num [1:100000] 0.0238 0.0255 0.0235 0.0268 0.027 ...\n"
     ]
    },
    {
     "data": {
      "text/plain": [
       "    Min.  1st Qu.   Median     Mean  3rd Qu.     Max. \n",
       "0.003002 0.017587 0.022262 0.023090 0.027714 0.097067 "
      ]
     },
     "metadata": {},
     "output_type": "display_data"
    },
    {
     "data": {
      "text/html": [
       "<style>\n",
       ".dl-inline {width: auto; margin:0; padding: 0}\n",
       ".dl-inline>dt, .dl-inline>dd {float: none; width: auto; display: inline-block}\n",
       ".dl-inline>dt::after {content: \":\\0020\"; padding-right: .5ex}\n",
       ".dl-inline>dt:not(:first-of-type) {padding-left: .5ex}\n",
       "</style><dl class=dl-inline><dt>2.5%</dt><dd>0.01</dd><dt>25%</dt><dd>0.02</dd><dt>50%</dt><dd>0.02</dd><dt>75%</dt><dd>0.03</dd><dt>97.5%</dt><dd>0.04</dd></dl>\n"
      ],
      "text/latex": [
       "\\begin{description*}\n",
       "\\item[2.5\\textbackslash{}\\%] 0.01\n",
       "\\item[25\\textbackslash{}\\%] 0.02\n",
       "\\item[50\\textbackslash{}\\%] 0.02\n",
       "\\item[75\\textbackslash{}\\%] 0.03\n",
       "\\item[97.5\\textbackslash{}\\%] 0.04\n",
       "\\end{description*}\n"
      ],
      "text/markdown": [
       "2.5%\n",
       ":   0.0125%\n",
       ":   0.0250%\n",
       ":   0.0275%\n",
       ":   0.0397.5%\n",
       ":   0.04\n",
       "\n"
      ],
      "text/plain": [
       " 2.5%   25%   50%   75% 97.5% \n",
       " 0.01  0.02  0.02  0.03  0.04 "
      ]
     },
     "metadata": {},
     "output_type": "display_data"
    },
    {
     "data": {
      "text/html": [
       "0.04"
      ],
      "text/latex": [
       "0.04"
      ],
      "text/markdown": [
       "0.04"
      ],
      "text/plain": [
       "[1] 0.04"
      ]
     },
     "metadata": {},
     "output_type": "display_data"
    },
    {
     "name": "stdout",
     "output_type": "stream",
     "text": [
      " num [1:97500] 0.0238 0.0255 0.0235 0.0268 0.027 ...\n"
     ]
    },
    {
     "data": {
      "image/png": "[encoded data removed]",
      "text/plain": [
       "Plot with title \"Histogram of Sim.lambda.post\""
      ]
     },
     "metadata": {
      "image/png": {
       "height": 360,
       "width": 360
      }
     },
     "output_type": "display_data"
    }
   ],
   "source": [
    "y<-c(16, 8, 114, 60, 4, 23, 30, 105)\n",
    "\n",
    "n<-length(y)\n",
    "ybar<-mean(y)\n",
    "nybar<-sum(y)\n",
    "\n",
    "post.a<-prior.a+n\n",
    "post.b<-prior.b+nybar\n",
    "\n",
    "\n",
    "Sim.lambda.post<-rgamma(N,post.a,post.b)\n",
    "\n",
    "str(Sim.lambda.post)\n",
    "summary(Sim.lambda.post)\n",
    "q.Sim.lambda.post<-quantile(Sim.lambda.post,c(0.025,0.25,0.50,0.75,0.975))\n",
    "round(q.Sim.lambda.post,2)\n",
    "lambdamax<-max(q.Sim.lambda.post)\n",
    "round(lambdamax,2)\n",
    "Sim.lambda.post.trunc<-Sim.lambda.post[Sim.lambda.post<lambdamax]  # truncate in order to be able to plot the histogram\n",
    "str(Sim.lambda.post.trunc)\n",
    "\n",
    "\n",
    "# Plot histogram, superimpose the Gamma pdf \n",
    "options(repr.plot.width=6,repr.plot.height=6)\n",
    "v<-seq(0,max(Sim.lambda.post),length=1000)\n",
    "yv<-dgamma(v,shape=post.a,rate=post.b)\n",
    "max.yv<-max(yv)\n",
    "hist(Sim.lambda.post,freq=FALSE,col=\"LightGreen\",xlab=expression(lambda),ylim=c(0,max.yv*1.1),breaks=25)\n",
    "lines(v,yv,lwd=2.5,col=\"blue\")"
   ]
  },
  {
   "cell_type": "markdown",
   "id": "2ef052e3",
   "metadata": {},
   "source": [
    "### Posterior predictive distribution"
   ]
  },
  {
   "cell_type": "markdown",
   "id": "96d98dcb",
   "metadata": {},
   "source": [
    "Since the exponential-gamma model makes the prior conjugate, we have that the posterior predictive distribution will be the same as the prior predictive distribution. In our case, as we explained before, it will be a Pareto II (Lomax) distribution, with density \n",
    "\n",
    "$$\n",
    "    f(y)=\\dfrac{\\alpha\\cdot\\beta^{\\alpha}}{(y+\\beta)^{\\alpha+1}},\\mskip20mu y\\geq 0,\n",
    "$$\n",
    "\n",
    "In our case, $\\alpha=9$ and $\\beta=390$. The expectation, variance and standard deviation are printed below."
   ]
  },
  {
   "cell_type": "code",
   "execution_count": 7,
   "id": "adf626f9",
   "metadata": {},
   "outputs": [
    {
     "data": {
      "text/html": [
       "48.75"
      ],
      "text/latex": [
       "48.75"
      ],
      "text/markdown": [
       "48.75"
      ],
      "text/plain": [
       "[1] 48.75"
      ]
     },
     "metadata": {},
     "output_type": "display_data"
    },
    {
     "data": {
      "text/html": [
       "3055.58"
      ],
      "text/latex": [
       "3055.58"
      ],
      "text/markdown": [
       "3055.58"
      ],
      "text/plain": [
       "[1] 3055.58"
      ]
     },
     "metadata": {},
     "output_type": "display_data"
    },
    {
     "data": {
      "text/html": [
       "55.277"
      ],
      "text/latex": [
       "55.277"
      ],
      "text/markdown": [
       "55.277"
      ],
      "text/plain": [
       "[1] 55.277"
      ]
     },
     "metadata": {},
     "output_type": "display_data"
    }
   ],
   "source": [
    "Theor.post.E.y<-post.b/(post.a-1)\n",
    "Theor.post.var.y<-post.b^2*post.a/((post.a-1)^2*(post.a-2))\n",
    "Theor.post.sd.y<-sqrt(Theor.post.var.y)\n",
    "round(Theor.post.E.y,3)\n",
    "round(Theor.post.var.y,3)\n",
    "round(Theor.post.sd.y,3)"
   ]
  },
  {
   "cell_type": "markdown",
   "id": "1c363258",
   "metadata": {},
   "source": [
    "Next we sample some data from the posterior predictive distribution, and also plot its density."
   ]
  },
  {
   "cell_type": "code",
   "execution_count": 28,
   "id": "b3b06c1e",
   "metadata": {},
   "outputs": [
    {
     "name": "stdout",
     "output_type": "stream",
     "text": [
      " num [1:100000] 5.27 5.78 33.41 20.62 8.62 ...\n"
     ]
    },
    {
     "data": {
      "text/plain": [
       "   Min. 1st Qu.  Median    Mean 3rd Qu.    Max. \n",
       "   0.00   12.68   31.06   48.41   64.50 1074.87 "
      ]
     },
     "metadata": {},
     "output_type": "display_data"
    },
    {
     "data": {
      "text/html": [
       "<style>\n",
       ".dl-inline {width: auto; margin:0; padding: 0}\n",
       ".dl-inline>dt, .dl-inline>dd {float: none; width: auto; display: inline-block}\n",
       ".dl-inline>dt::after {content: \":\\0020\"; padding-right: .5ex}\n",
       ".dl-inline>dt:not(:first-of-type) {padding-left: .5ex}\n",
       "</style><dl class=dl-inline><dt>2.5%</dt><dd>1.07</dd><dt>25%</dt><dd>12.68</dd><dt>50%</dt><dd>31.06</dd><dt>75%</dt><dd>64.5</dd><dt>97.5%</dt><dd>197.06</dd></dl>\n"
      ],
      "text/latex": [
       "\\begin{description*}\n",
       "\\item[2.5\\textbackslash{}\\%] 1.07\n",
       "\\item[25\\textbackslash{}\\%] 12.68\n",
       "\\item[50\\textbackslash{}\\%] 31.06\n",
       "\\item[75\\textbackslash{}\\%] 64.5\n",
       "\\item[97.5\\textbackslash{}\\%] 197.06\n",
       "\\end{description*}\n"
      ],
      "text/markdown": [
       "2.5%\n",
       ":   1.0725%\n",
       ":   12.6850%\n",
       ":   31.0675%\n",
       ":   64.597.5%\n",
       ":   197.06\n",
       "\n"
      ],
      "text/plain": [
       "  2.5%    25%    50%    75%  97.5% \n",
       "  1.07  12.68  31.06  64.50 197.06 "
      ]
     },
     "metadata": {},
     "output_type": "display_data"
    },
    {
     "data": {
      "text/html": [
       "197.06"
      ],
      "text/latex": [
       "197.06"
      ],
      "text/markdown": [
       "197.06"
      ],
      "text/plain": [
       "[1] 197.06"
      ]
     },
     "metadata": {},
     "output_type": "display_data"
    },
    {
     "name": "stdout",
     "output_type": "stream",
     "text": [
      " num [1:97500] 59.6 26.6 54.2 31.3 25.2 ...\n"
     ]
    },
    {
     "data": {
      "image/png": "[encoded data removed]",
      "text/plain": [
       "Plot with title \"Histogram of Sim.y.pred.trunc\""
      ]
     },
     "metadata": {
      "image/png": {
       "height": 300,
       "width": 360
      }
     },
     "output_type": "display_data"
    }
   ],
   "source": [
    "Sim.y.pred<-rexp(N,rate=Sim.lambda.post)\n",
    "\n",
    "str(Sim.y)\n",
    "summary(Sim.y.pred)\n",
    "q.Sim.y.pred<-quantile(Sim.y.pred,c(0.025,0.25,0.50,0.75,0.975))\n",
    "round(q.Sim.y.pred,2)\n",
    "ymax<-max(q.Sim.y.pred)\n",
    "round(ymax,2)\n",
    "Sim.y.pred.trunc<-Sim.y.pred[Sim.y.pred<ymax]  # truncate in order to be able to plot the histogram\n",
    "str(Sim.y.pred.trunc)\n",
    "\n",
    "# Plot histogram, \n",
    "options(repr.plot.width=6,repr.plot.height=5)\n",
    "u<-seq(0,ymax,length=1000)\n",
    "yu<-Theor.pred.pdf(u,a=post.a,b=post.b)\n",
    "ymax<-max(yu)\n",
    "hist(Sim.y.pred.trunc,freq=FALSE,col=\"LightGreen\",\n",
    "     breaks=c(min(Sim.y.pred.trunc),q.Sim.y.pred,max(Sim.y.pred.trunc)),ylim=c(0,ymax*1.1))\n",
    "lines(u,yu,lwd=2.5,col=\"DarkGreen\")"
   ]
  },
  {
   "cell_type": "markdown",
   "id": "8d2b777f",
   "metadata": {},
   "source": [
    "## Stan simulation"
   ]
  },
  {
   "cell_type": "markdown",
   "id": "ffd62015",
   "metadata": {},
   "source": [
    "Next let's redo the simulations for the posterior and the posterior predictive distributions without using any analytical conjugate prior formulas. We will be using Stan. This code is strongly based in the one provided in the notebook `02.Exponential.01.Claims.Stan`."
   ]
  },
  {
   "cell_type": "code",
   "execution_count": 14,
   "id": "0fdba031",
   "metadata": {},
   "outputs": [],
   "source": [
    "require(rstan)\n",
    "\n",
    "options(mc.cores = parallel::detectCores())\n",
    "rstan_options(auto_write = TRUE)"
   ]
  },
  {
   "cell_type": "code",
   "execution_count": 15,
   "id": "6736be2f",
   "metadata": {},
   "outputs": [],
   "source": [
    "stanmodelcode <- \"\n",
    "data {\n",
    "    int<lower=0> n;\n",
    "    real<lower=0> prior_a;\n",
    "    real<lower=0> prior_b;\n",
    "    real<lower=0> y[n];\n",
    "    }\n",
    "parameters {\n",
    "    real<lower=0.00001> lambda;\n",
    "    }\n",
    "model {\n",
    "    lambda ~ gamma(prior_a,prior_b);\n",
    "    y~exponential(lambda);\n",
    "    }\n",
    "generated quantities{                // Sampling from the lambda posterior\n",
    "    real y_pred;\n",
    "    y_pred = exponential_rng(lambda);\n",
    "    }\n",
    "    \""
   ]
  },
  {
   "cell_type": "code",
   "execution_count": 11,
   "id": "4012cfb3",
   "metadata": {},
   "outputs": [],
   "source": [
    "stanDso <- stan_model(model_code = stanmodelcode) "
   ]
  },
  {
   "cell_type": "code",
   "execution_count": 12,
   "id": "c0c23c90",
   "metadata": {},
   "outputs": [],
   "source": [
    "dat <- list(n = n, y = y, prior_a=prior.a, prior_b=prior.b); "
   ]
  },
  {
   "cell_type": "markdown",
   "id": "873e1be3",
   "metadata": {},
   "source": [
    "Next we can see some of the percentiles of the sampled quantiles from the posterior and posterior predicitve distributions. The hyperparameters are the same as the ones provided in the Claims notebook (the chains value is not explicitly set to 4, however this is the default value in the sampling() function)."
   ]
  },
  {
   "cell_type": "code",
   "execution_count": 16,
   "id": "ea548bad",
   "metadata": {},
   "outputs": [
    {
     "data": {
      "text/plain": [
       "Inference for Stan model: e0ab43bf64cd32704028c1145a4f3463.\n",
       "4 chains, each with iter=20000; warmup=1000; thin=1; \n",
       "post-warmup draws per chain=19000, total post-warmup draws=76000.\n",
       "\n",
       "         mean se_mean    sd   2.5%    25%    50%    75%  97.5% n_eff Rhat\n",
       "lambda   0.02    0.00  0.01   0.01   0.02   0.02   0.03   0.04 24907    1\n",
       "y_pred  49.26    0.23 55.97   1.14  12.70  31.43  65.35 200.14 60083    1\n",
       "lp__   -43.43    0.00  0.72 -45.49 -43.60 -43.15 -42.97 -42.92 31788    1\n",
       "\n",
       "Samples were drawn using NUTS(diag_e) at Sun Apr 24 12:54:54 2022.\n",
       "For each parameter, n_eff is a crude measure of effective sample size,\n",
       "and Rhat is the potential scale reduction factor on split chains (at \n",
       "convergence, Rhat=1)."
      ]
     },
     "metadata": {},
     "output_type": "display_data"
    }
   ],
   "source": [
    "fit1 <- sampling(stanDso, data = dat, iter = 20000, warmup=1000, chains=4) \n",
    "fit1"
   ]
  },
  {
   "cell_type": "markdown",
   "id": "b0c704fb",
   "metadata": {},
   "source": [
    "The mean for the posterior distribution is 0.02, which matches the theoretical expectation that we saw earlier. The same can be said about the standard deviation, which is 0.01. Moreover, the sampled quantiles match the ones we obtained before.\n",
    "\n",
    "What about the posterior predictive distribution? Here the mean is 49.26, while the theoretical expectation is 48.75. Let's tune the warmup hyperparameter, which is usually set to iter/2."
   ]
  },
  {
   "cell_type": "code",
   "execution_count": 40,
   "id": "0f47450d",
   "metadata": {},
   "outputs": [
    {
     "data": {
      "text/plain": [
       "Inference for Stan model: e0ab43bf64cd32704028c1145a4f3463.\n",
       "4 chains, each with iter=20000; warmup=10000; thin=1; \n",
       "post-warmup draws per chain=10000, total post-warmup draws=40000.\n",
       "\n",
       "         mean se_mean    sd   2.5%    25%    50%    75%  97.5% n_eff Rhat\n",
       "lambda   0.02    0.00  0.01   0.01   0.02   0.02   0.03   0.04 14916    1\n",
       "y_pred  48.75    0.30 55.01   1.18  12.56  31.44  65.27 198.71 32802    1\n",
       "lp__   -43.43    0.01  0.72 -45.49 -43.59 -43.15 -42.97 -42.92 16816    1\n",
       "\n",
       "Samples were drawn using NUTS(diag_e) at Sun Apr 24 13:15:35 2022.\n",
       "For each parameter, n_eff is a crude measure of effective sample size,\n",
       "and Rhat is the potential scale reduction factor on split chains (at \n",
       "convergence, Rhat=1)."
      ]
     },
     "metadata": {},
     "output_type": "display_data"
    }
   ],
   "source": [
    "fit2 <- sampling(stanDso, data = dat, iter = 20000, warmup=10000, chains=4) \n",
    "fit2"
   ]
  },
  {
   "cell_type": "markdown",
   "id": "1eabe45b",
   "metadata": {},
   "source": [
    "We can see that we have reduced the distance between the sampled mean, which now is 48.75, and the theoretical expectation. The sampled standard deviation is 55.01, not far away from the theoretical one 55.27.\n",
    "\n",
    "Let's also adjust the chains hyperparameters, which specifies the number of Markov chains."
   ]
  },
  {
   "cell_type": "code",
   "execution_count": 41,
   "id": "35d32d3f",
   "metadata": {},
   "outputs": [
    {
     "data": {
      "text/plain": [
       "Inference for Stan model: e0ab43bf64cd32704028c1145a4f3463.\n",
       "3 chains, each with iter=20000; warmup=10000; thin=1; \n",
       "post-warmup draws per chain=10000, total post-warmup draws=30000.\n",
       "\n",
       "         mean se_mean    sd   2.5%    25%    50%    75%  97.5% n_eff Rhat\n",
       "lambda   0.02    0.00  0.01   0.01   0.02   0.02   0.03   0.04 11425    1\n",
       "y_pred  48.80    0.36 55.94   1.04  12.45  31.26  65.15 199.05 24218    1\n",
       "lp__   -43.43    0.01  0.72 -45.49 -43.59 -43.15 -42.97 -42.92  9234    1\n",
       "\n",
       "Samples were drawn using NUTS(diag_e) at Sun Apr 24 13:15:56 2022.\n",
       "For each parameter, n_eff is a crude measure of effective sample size,\n",
       "and Rhat is the potential scale reduction factor on split chains (at \n",
       "convergence, Rhat=1)."
      ]
     },
     "metadata": {},
     "output_type": "display_data"
    }
   ],
   "source": [
    "fit3 <- sampling(stanDso, data = dat, iter = 20000, warmup=10000, chains=3) \n",
    "fit3"
   ]
  },
  {
   "cell_type": "code",
   "execution_count": 42,
   "id": "e92dd4ad",
   "metadata": {},
   "outputs": [
    {
     "data": {
      "text/plain": [
       "Inference for Stan model: e0ab43bf64cd32704028c1145a4f3463.\n",
       "5 chains, each with iter=20000; warmup=10000; thin=1; \n",
       "post-warmup draws per chain=10000, total post-warmup draws=50000.\n",
       "\n",
       "         mean se_mean    sd   2.5%    25%    50%    75%  97.5% n_eff Rhat\n",
       "lambda   0.02    0.00  0.01   0.01   0.02   0.02   0.03   0.04 17576    1\n",
       "y_pred  48.74    0.27 55.51   1.08  12.73  31.28  64.97 196.03 41509    1\n",
       "lp__   -43.43    0.01  0.73 -45.51 -43.59 -43.15 -42.97 -42.92 19174    1\n",
       "\n",
       "Samples were drawn using NUTS(diag_e) at Sun Apr 24 13:16:10 2022.\n",
       "For each parameter, n_eff is a crude measure of effective sample size,\n",
       "and Rhat is the potential scale reduction factor on split chains (at \n",
       "convergence, Rhat=1)."
      ]
     },
     "metadata": {},
     "output_type": "display_data"
    }
   ],
   "source": [
    "fit4 <- sampling(stanDso, data = dat, iter = 20000, warmup=10000, chains=5) \n",
    "fit4"
   ]
  },
  {
   "cell_type": "markdown",
   "id": "423ce8d6",
   "metadata": {},
   "source": [
    "It seems like varying the number of Markov chains does not affect the result much, so we will keep the number of Markov chains at 4."
   ]
  },
  {
   "cell_type": "code",
   "execution_count": 43,
   "id": "8179876c",
   "metadata": {},
   "outputs": [],
   "source": [
    "lambda <- extract(fit2, 'lambda')\n",
    "lambda <- unlist(lambda, use.names=FALSE)\n",
    "y_pred <- extract(fit2, 'y_pred')\n",
    "y_pred <- unlist(y_pred, use.names=FALSE)"
   ]
  },
  {
   "cell_type": "code",
   "execution_count": 46,
   "id": "92ddba0d",
   "metadata": {},
   "outputs": [],
   "source": [
    "require(actuar) # Required for pareto distribution"
   ]
  },
  {
   "cell_type": "markdown",
   "id": "fff708c2",
   "metadata": {},
   "source": [
    "Finally we will plot the density functions for the prior, analytical posterior (this is, using the fact that the prior is conjugate) and the sampled posterior (the one we just simulated using Stan, without using that the prior is conjugate). We do the same for the posterior predictive."
   ]
  },
  {
   "cell_type": "code",
   "execution_count": 47,
   "id": "864518da",
   "metadata": {},
   "outputs": [
    {
     "data": {
      "image/png": "[encoded data removed]",
      "text/plain": [
       "Plot with title \"Predictive waiting time distribution\""
      ]
     },
     "metadata": {
      "image/png": {
       "height": 420,
       "width": 840
      }
     },
     "output_type": "display_data"
    }
   ],
   "source": [
    "options(repr.plot.width=14,repr.plot.height=7)\n",
    "old.par<- par(mfrow=c(1,2))\n",
    "# Simulated posterior parameter\n",
    "plot(density(lambda),\n",
    "     xlab=expression(lambda), col=grey(0, 0.8),lwd=3,\n",
    "     main=\"Parameter distribution\")\n",
    "# Analytical posterior parameter\n",
    "curve(dgamma(x, post.a, post.b), \n",
    "      add=TRUE, col=4, lty=2, lwd=2.5)\n",
    "# Analytical prior parameter\n",
    "curve(dgamma(x, prior.a, prior.b), \n",
    "      add=TRUE, col=2)\n",
    "legend(x=0.03,y=45,legend=c(\"Prior\", \"Analytical posterior\", \"Sampling posterior\"), \n",
    "           col=c(2, 4, grey(0, 0.8)), lty=c(1,2,1), bty=\"n\",lwd=3)\n",
    "# Simulated posterior predictive\n",
    "plot(density(y_pred), xlim=c(1,2000),\n",
    "     xlab=\"Waiting time\", col=grey(0, 0.8),\n",
    "     main=\"Predictive waiting time distribution\",lwd=3)\n",
    "# Analytical posterior predictive\n",
    "curve(dpareto(x, post.a, post.b), \n",
    "      add=TRUE, col=4, lwd=1.5, lty=2,5)\n",
    "# Analytical prior predictive\n",
    "curve(dpareto(x, prior.a, prior.b), \n",
    "      add=TRUE, col=2,lwd=3)\n",
    "legend(x=600,y=0.015, legend=c(\"Prior predictive\",\"Analytical posterior predictive\", \"Sampling posterior predictive\"),\n",
    "           col=c(2, 4, grey(0, 0.8)),lwd=3, lty=c(1,2,1), bty=\"n\")\n",
    "par(old.par)"
   ]
  },
  {
   "cell_type": "markdown",
   "id": "upper-radio",
   "metadata": {},
   "source": [
    "<h1 style=\"color:blue\">02 - A more elaborate mixture prior for the spinning coin</h1>"
   ]
  },
  {
   "cell_type": "markdown",
   "id": "disturbed-friendship",
   "metadata": {},
   "source": [
    "(continued from Diaconis experiment)"
   ]
  },
  {
   "cell_type": "markdown",
   "id": "operational-roommate",
   "metadata": {},
   "source": [
    "On reflection, it was decided that tails had come up more often than heads in the past; further some coins seemed likely to be symmetric. \n",
    "\n",
    "Thus, a final approximation to the prior was taken as:\n",
    "\n",
    "$$\n",
    "   \\mskip-800mu 0.50\\cdot\\betadist(10,20) + 0.20\\cdot\\betadist(15,15) + 0.30\\cdot\\betadist(20,10).\n",
    "$$\n",
    "\n",
    "Same observed data as in the previous model."
   ]
  },
  {
   "cell_type": "code",
   "execution_count": 1,
   "id": "continental-diesel",
   "metadata": {},
   "outputs": [],
   "source": [
    "# Number of trials\n",
    "n<-10\n",
    "# Observed x\n",
    "x.obs<-3"
   ]
  },
  {
   "cell_type": "markdown",
   "id": "fluid-moderator",
   "metadata": {},
   "source": [
    "Perform a complete Bayesian analysis of this model, in close parallel to the first example.\n",
    "\n",
    "(1) Using the theoretical formulas (prior predictive pmf, posterior pdf, posterior predictive pmf)\n",
    "\n",
    "(2) Using independent random numbers (`rbeta()` functions, etc.)\n",
    "\n",
    "(3) JAGS version\n",
    "\n",
    "(4)$ {}^{\\star}$ Stan version. "
   ]
  },
  {
   "cell_type": "markdown",
   "id": "pursuant-martin",
   "metadata": {},
   "source": [
    ">$ (\\star)$ Hint: this one **is difficult** due to intrinsic limitations in Stan. There are several known workarounds; you can try to find one but do not despair if you fail to develop a workable version.\n",
    "\n",
    ">As a matter of fact even a Stan version of the two-components prior mixture in `Mixture.priors.02.ipynb` \n",
    "is rather tricky: Stan does not allow integer parameters thus the JAGS code cannot be translated literally."
   ]
  },
  {
   "cell_type": "markdown",
   "id": "intelligent-triangle",
   "metadata": {},
   "source": [
    "Diaconis and Ylvisaker (1985) compare both mixture conjugate priors with a $ \\operatorname{Unif}(0,1)$ prior with the data above. \n",
    "\n",
    "Comparing the MAP estimators, they observe that in a first approximation, they coincide, but spreads do depend on the prior."
   ]
  },
  {
   "cell_type": "markdown",
   "id": "d1614226-83b4-4724-a7bb-dc324d8365b1",
   "metadata": {},
   "source": [
    "They repeat the computations above with a larger sample. "
   ]
  },
  {
   "cell_type": "code",
   "execution_count": 2,
   "id": "closing-vancouver",
   "metadata": {},
   "outputs": [],
   "source": [
    "n1<-50\n",
    "x1.obs<-14"
   ]
  },
  {
   "cell_type": "markdown",
   "id": "9de8949b-1cdd-4ac7-8a8c-8a1c1da310de",
   "metadata": {},
   "source": [
    "Their conclusion is that with small data, prior matters, but with larger samples, a finely tuned choice of prior is less important."
   ]
  },
  {
   "cell_type": "code",
   "execution_count": null,
   "id": "b77a2ea8",
   "metadata": {},
   "outputs": [],
   "source": []
  },
  {
   "cell_type": "code",
   "execution_count": null,
   "id": "a992dd24",
   "metadata": {},
   "outputs": [],
   "source": []
  }
 ],
 "metadata": {
  "kernelspec": {
   "display_name": "R",
   "language": "R",
   "name": "ir"
  },
  "language_info": {
   "codemirror_mode": "r",
   "file_extension": ".r",
   "mimetype": "text/x-r-source",
   "name": "R",
   "pygments_lexer": "r",
   "version": "4.1.3"
  }
 },
 "nbformat": 4,
 "nbformat_minor": 5
}
