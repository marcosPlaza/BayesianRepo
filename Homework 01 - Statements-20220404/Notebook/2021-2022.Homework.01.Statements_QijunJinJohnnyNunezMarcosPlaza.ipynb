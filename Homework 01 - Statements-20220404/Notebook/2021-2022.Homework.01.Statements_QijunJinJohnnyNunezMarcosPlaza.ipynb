{
 "cells": [
  {
   "cell_type": "markdown",
   "id": "indoor-catalyst",
   "metadata": {
    "tags": []
   },
   "source": [
    "<h1 style=\"color:blue\"> Bayesian Statistics and Probabilistic Programming</h1>\n",
    "\n",
    "<h1 style=\"color:blue\"> Spring 2022 - Homework 01</h1>\n",
    "\n",
    "<h3 style=\"color:blue\">2022-04-04</h3>\n",
    "\n",
    "<hr>\n",
    "\n",
    "<h3 style=\"color:gray\"><i>Project by: Qijun Jin, Johnny Nuñez & Marcos Plaza</i></h3>"
   ]
  },
  {
   "cell_type": "markdown",
   "id": "occasional-trigger",
   "metadata": {
    "tags": []
   },
   "source": [
    "***\n",
    "###### LaTeX macros\n",
    "$\\def\\prob{P}$\n",
    "$\\def\\argmax{\\operatorname{arg\\,max}}$\n",
    "$\\def\\argmin{\\operatorname{arg\\,min}}$\n",
    "$\\def\\borel{\\operatorname{Borel}}$\n",
    "$\\def\\cE{\\cal E}$\n",
    "$\\def\\cP{\\cal P}$\n",
    "$\\def\\R{\\mathbb{R}}$ \n",
    "$\\def\\N{\\mathbb{N}}$\n",
    "$\\def\\Z{\\mathbb{Z}}$\n",
    "$\\def\\Ee{\\operatorname{E}}$\n",
    "$\\def\\va{\\text{v.a.}}$\n",
    "$\\def\\var{\\operatorname{var}}$\n",
    "$\\def\\cov{\\operatorname{cov}}$\n",
    "$\\def\\cor{\\operatorname{cor}}$\n",
    "$\\def\\binomdist{\\operatorname{Binom}}$\n",
    "$\\def\\berndist{\\operatorname{Ber}}$\n",
    "$\\def\\betabinomdist{\\operatorname{Beta-Binom}}$\n",
    "$\\def\\betadist{\\operatorname{Beta}}$\n",
    "$\\def\\expdist{\\operatorname{Exponential}}$\n",
    "$\\def\\gammadist{\\operatorname{Gamma}}$\n",
    "$\\def\\hyperdist{\\operatorname{Hypergeom}}$\n",
    "$\\def\\hypergeomdist{\\operatorname{Hypergeom}}$\n",
    "$\\DeclareMathOperator{\\multinomialdist}{Multinomial}$\n",
    "$\\DeclareMathOperator{\\multinomdist}{Multinom}$\n",
    "$\\def\\poissondist{\\operatorname{Poisson}}$\n",
    "$\\def\\geomdist{\\operatorname{Geom}}$\n",
    "$\\def\\normaldist{\\operatorname{N}}$\n",
    "$\\def\\unifdist{\\operatorname{Unif}}$\n",
    "$\\DeclareMathOperator{\\indica}{\\mathbb{1}}$\n",
    "$\\def\\CondTo{\\mathbin{|\\mskip0.5mu}}$\n",
    "***"
   ]
  },
  {
   "cell_type": "markdown",
   "id": "floppy-carbon",
   "metadata": {},
   "source": [
    "<h1 style=\"color:blue\">Instructions</h1>"
   ]
  },
  {
   "cell_type": "markdown",
   "id": "70c9392f-68be-443f-869f-3d11500d23d8",
   "metadata": {},
   "source": [
    "### Submissions: \n",
    "\n",
    "By **groups** of _about_ three students (meaning: two is OK, four is not advisable but possible. Individual homeworks \n",
    "will also be accepted but collaborative work is preferable). \n",
    "\n",
    "Please send me an **email** with the team members names as soon as you have formed it.\n",
    "\n",
    "Only **one copy** of each group's work must be uploaded (by any member)"
   ]
  },
  {
   "cell_type": "markdown",
   "id": "205b1149-7745-4070-af12-b16374a0b741",
   "metadata": {},
   "source": [
    "### Format: \n",
    "\n",
    "A Jupyter or R Markdown **notebook,** with a **header** clearly stating the names of all contributors. "
   ]
  },
  {
   "cell_type": "markdown",
   "id": "c7ffc8d7-72ad-4915-a21b-863c669d439d",
   "metadata": {
    "tags": []
   },
   "source": [
    "### Documentation: \n",
    "\n",
    "Comments **in code cells** (e.g., meaning of variables, parameters, purpose of functions) are necessary but not sufficient.\n",
    "\n",
    "You are expected to give full explanations of steps taken in your solution (in **Markdown cells**), as well as discussion of results and their meaning.\n",
    "\n",
    "Do not drear being too verbose or too elementary."
   ]
  },
  {
   "cell_type": "markdown",
   "id": "de26c667-4256-4b2a-bfb8-cc11bc9a10bb",
   "metadata": {},
   "source": [
    "### External sources\n",
    "\n",
    "Getting inspiration from any book, document, blog, wep page, even mimicking solutions given in there, is **allowed and encouraged,** provided you give a **proper reference,**\n",
    "understand every such material, and explain it in you own words, even more exhaustively.\n",
    "\n",
    "Dare not **copy/paste literally.** I do detect it, believe me, even with a missing source reference. Bleak consequences."
   ]
  },
  {
   "cell_type": "markdown",
   "id": "52ca45a3-4eab-4ff4-94d1-0fac33d6e15a",
   "metadata": {},
   "source": [
    "### Deadline:\n",
    "\n",
    "Completed assignments are due on Tuesday, April 19. They are to be uploaded to the Virtual Campus."
   ]
  },
  {
   "cell_type": "markdown",
   "id": "acceptable-lender",
   "metadata": {},
   "source": [
    "<h1 style=\"color:blue\">01 - Stan version of a conjugate prior problem</h1>\n",
    "\n",
    "<h2 style=\"color:blue\">Modelling Earthquake Waiting Times</h2>"
   ]
  },
  {
   "cell_type": "markdown",
   "id": "exceptional-marina",
   "metadata": {},
   "source": [
    "Consider the problem in `Exponential.02.Earthquake` (notebook in 2022-03-28 folder), where the goal is to study earthquake waiting times.\n",
    "\n",
    "Likelihood is modelled as an $\\expdist(\\lambda)$ and $\\lambda$ is given a conjugate prior, $\\lambda\\sim\\gammadist(\\alpha,\\beta)$.\n",
    "\n",
    "In this notebook some simulations are performed for:\n",
    "\n",
    "01. Prior pdf for $\\lambda$.\n",
    "02. Prior predictive pdf for the waiting time.\n",
    "03. Posterior pdf for $\\lambda$.\n",
    "04. Posterior predictive for new waiting time.\n",
    "\n",
    "In `Exponential.02.Earthquake` we use known theoretical (analytical) descriptions of these distributions.\n",
    "\n",
    "Your task is to redo these simulations using Stan, disregarding analytical conjugate prior formulas, and then comparing your results to the analytical ones. Use this comparison to tune up adjustable parameters in Stan sampling, such as chain length. "
   ]
  },
  {
   "cell_type": "code",
   "execution_count": 1,
   "id": "fca5ef25",
   "metadata": {},
   "outputs": [],
   "source": [
    "# Hay que realizar lo mismo que en el notebook que se\n",
    "# halla en este directorio pero con Stan (R package).\n",
    "# Posteriormente comparar y ajustar."
   ]
  },
  {
   "cell_type": "markdown",
   "id": "upper-radio",
   "metadata": {},
   "source": [
    "<h1 style=\"color:blue\">02 - A more elaborate mixture prior for the spinning coin</h1>"
   ]
  },
  {
   "cell_type": "markdown",
   "id": "ad517762",
   "metadata": {},
   "source": [
    "### Problem statement"
   ]
  },
  {
   "cell_type": "markdown",
   "id": "disturbed-friendship",
   "metadata": {},
   "source": [
    "(continued from Diaconis experiment)"
   ]
  },
  {
   "cell_type": "markdown",
   "id": "operational-roommate",
   "metadata": {},
   "source": [
    "On reflection, it was decided that tails had come up more often than heads in the past; further some coins seemed likely to be symmetric. \n",
    "\n",
    "Thus, a final approximation to the prior was taken as:\n",
    "\n",
    "$\\mskip-800mu 0.50\\cdot\\betadist(10,20) + 0.20\\cdot\\betadist(15,15) + 0.30\\cdot\\betadist(20,10).$\n",
    "\n",
    "$0.50\\cdot\\betadist(10,20) + 0.20\\cdot\\betadist(15,15) + 0.30\\cdot\\betadist(20,10).$\n",
    "\n",
    "Same observed data as in the previous model."
   ]
  },
  {
   "cell_type": "code",
   "execution_count": 2,
   "id": "continental-diesel",
   "metadata": {},
   "outputs": [],
   "source": [
    "# Number of trials\n",
    "n<-10\n",
    "# Observed x\n",
    "x.obs<-3"
   ]
  },
  {
   "cell_type": "markdown",
   "id": "fluid-moderator",
   "metadata": {},
   "source": [
    "Perform a complete Bayesian analysis of this model, in close parallel to the first example.\n",
    "\n",
    "(1) Using the theoretical formulas (prior predictive pmf, posterior pdf, posterior predictive pmf)\n",
    "\n",
    "(2) Using independent random numbers (`rbeta()` functions, etc.)\n",
    "\n",
    "(3) JAGS version\n",
    "\n",
    "(4)$ {}^{\\star}$ Stan version. "
   ]
  },
  {
   "cell_type": "markdown",
   "id": "pursuant-martin",
   "metadata": {},
   "source": [
    ">$ (\\star)$ Hint: this one **is difficult** due to intrinsic limitations in Stan. There are several known workarounds; you can try to find one but do not despair if you fail to develop a workable version.\n",
    "\n",
    ">As a matter of fact even a Stan version of the two-components prior mixture in `Mixture.priors.02.ipynb` \n",
    "is rather tricky: Stan does not allow integer parameters thus the JAGS code cannot be translated literally."
   ]
  },
  {
   "cell_type": "markdown",
   "id": "intelligent-triangle",
   "metadata": {},
   "source": [
    "Diaconis and Ylvisaker (1985) compare both mixture conjugate priors with a $ \\operatorname{Unif}(0,1)$ prior with the data above. \n",
    "\n",
    "Comparing the MAP estimators, they observe that in a first approximation, they coincide, but spreads do depend on the prior."
   ]
  },
  {
   "cell_type": "markdown",
   "id": "d1614226-83b4-4724-a7bb-dc324d8365b1",
   "metadata": {},
   "source": [
    "They repeat the computations above with a larger sample. "
   ]
  },
  {
   "cell_type": "code",
   "execution_count": null,
   "id": "closing-vancouver",
   "metadata": {},
   "outputs": [],
   "source": [
    "n1<-50\n",
    "x1.obs<-14"
   ]
  },
  {
   "cell_type": "markdown",
   "id": "9de8949b-1cdd-4ac7-8a8c-8a1c1da310de",
   "metadata": {},
   "source": [
    "Their conclusion is that with small data, prior matters, but with larger samples, a finely tuned choice of prior is less important."
   ]
  },
  {
   "cell_type": "markdown",
   "id": "99e60888",
   "metadata": {},
   "source": [
    "### 2.1 Previous model description"
   ]
  },
  {
   "cell_type": "markdown",
   "id": "462a400a",
   "metadata": {},
   "source": [
    "Starting from the explanations of [mathematicalmonk's](https://www.youtube.com/watch?v=qpNAXnmy0GU) channel, the problem can be seen as a _**Beta-Bernoulli model**_, as we have an unknown probability $\\theta$ from an independent sequence of $n$ experiments represented as $X_{1},\\dots,X_{n} \\sim\\operatorname{Bern}(\\theta)$, where the value $1$ was observed a number of times.\n",
    "\n",
    "The **likelihood** can be fitted by $$x\\sim\\binomdist(\\text{size}=n,\\text{prob}=\\theta).$$\n",
    "\n",
    "The **prior distribution** is given by $$\\theta\\sim0.50\\cdot\\betadist(10,20) + 0.20\\cdot\\betadist(15,15) + 0.30\\cdot\\betadist(20,10).$$\n",
    "\n",
    "Firstly, we are going to set up the parameters of the mixture prior. Then we are going to define the probability and cumulative density function (pdf&cdf) as mixtures of beta distributions."
   ]
  },
  {
   "cell_type": "code",
   "execution_count": 6,
   "id": "ef6b3288",
   "metadata": {},
   "outputs": [],
   "source": [
    "# params definition\n",
    "\n",
    "# alpha\n",
    "prior.alpha_1<-10\n",
    "prior.alpha_2<-15\n",
    "prior.alpha_3<-20\n",
    "\n",
    "# beta\n",
    "prior.beta_1<-20\n",
    "prior.beta_2<-15\n",
    "prior.beta_3<-10\n",
    "\n",
    "# gamma\n",
    "prior.gamma_1<-0.5\n",
    "prior.gamma_2<-0.2\n",
    "prior.gamma_3<-0.3\n",
    "\n",
    "\n",
    "# pdf and cdf definition\n",
    "mixture.prior.pdf<-function(theta){ return(prior.gamma_1*dbeta(theta,prior.alpha_1,prior.beta_1)+\n",
    "                                           prior.gamma_2*dbeta(theta,prior.alpha_2,prior.beta_2)+\n",
    "                                           prior.gamma_3*dbeta(theta,prior.alpha_3,prior.beta_3)) }\n",
    "\n",
    "mixture.prior.cdf<-function(theta){ return(prior.gamma_1*pbeta(theta,prior.alpha_1,prior.beta_1)+\n",
    "                                           prior.gamma_2*pbeta(theta,prior.alpha_2,prior.beta_2)+\n",
    "                                           prior.gamma_3*pbeta(theta,prior.alpha_3,prior.beta_3)) }"
   ]
  },
  {
   "cell_type": "code",
   "execution_count": 45,
   "id": "63466e61",
   "metadata": {},
   "outputs": [
    {
     "data": {
      "image/png": "[encoded data removed]",
      "text/plain": [
       "Plot with title “Mixture probability density function”"
      ]
     },
     "metadata": {
      "image/png": {
       "height": 420,
       "width": 900
      }
     },
     "output_type": "display_data"
    }
   ],
   "source": [
    "# pdf's representation\n",
    "\n",
    "options(repr.plot.width=15,repr.plot.height=7)\n",
    "par(mfrow=c(1,2))\n",
    "\n",
    "u<-seq(0,1,length=100)\n",
    "v<-mixture.prior.pdf(u)\n",
    "\n",
    "plot(u,v,\n",
    "     xlim=c(0,1), ylim=c(0,max(v)),\n",
    "     xlab=\"\", ylab=\"Density\",\n",
    "     type=\"l\",\n",
    "     lwd=2.5,\n",
    "     col=\"red\",\n",
    "     main=sprintf(\"Mixture probability density function\"))"
   ]
  },
  {
   "cell_type": "markdown",
   "id": "953c9939",
   "metadata": {},
   "source": [
    "### 2.2 Analysis by using the theoretical formulas"
   ]
  },
  {
   "cell_type": "markdown",
   "id": "4e5c1409",
   "metadata": {},
   "source": [
    "Assuming the prior probability density function as we've seen previously ($h(\\theta)=\\gamma_1h_1(\\theta)+\\gamma_2h_2(\\theta)+\\gamma_3h_3(\\theta)$) and it's likelihood as $f(x\\mid \\theta)= {{n}\\choose{x}} \\theta^{x}(1-\\theta)^{n-x}$, by joining both expressions we obtain\n",
    "\n",
    "$$f(x,\\theta)=f(x\\mid \\theta)h(\\theta)=\n",
    "\\gamma_1f_1(x, \\theta)+\n",
    "\\gamma_2f_2(x, \\theta)+\n",
    "\\gamma_3f_3(x, \\theta) : f_i(x, \\theta)=f(x\\mid \\theta)h_i(\\theta).$$\n",
    "\n",
    "We can get the marginal for $x$, by integrating out $\\theta$:\n",
    "\n",
    "$$f(x)=\\int f(x,\\theta)d\\theta=\\gamma_1f_1(x)+\\gamma_2f_2(x)+\\gamma_3f_3(x) : f_i(x)=\\int f(x\\mid \\theta)h_i(\\theta)d\\theta.\n",
    "$$\n",
    "\n",
    "Taking the Bayes' theory expression ($P(A_{i}\\mid B)$):\n",
    "\n",
    "$$\n",
    "h(\\theta \\mid x)=\\dfrac{f(x,\\theta)}{f(x)}=\n",
    "\\dfrac{\\gamma_1f_1(x, \\theta)+\n",
    "\\gamma_2f_2(x, \\theta)+\n",
    "\\gamma_3f_3(x, \\theta)}{\\gamma_1f_1(x)+\\gamma_2f_2(x)+\\gamma_3f_3(x)}=\n",
    "\\dfrac{\\gamma_1f_1(x)h_1(\\theta \\mid x)+\n",
    "\\gamma_2f_2(x)h_2(\\theta \\mid x)+\n",
    "\\gamma_3f_3(x)h_3(\\theta \\mid x)}{\\gamma_1f_1(x)+\\gamma_2f_2(x)+\\gamma_3f_3(x)}\n",
    ": h_i(\\theta \\mid x)=\\dfrac{f_i(x,\\theta)}{f_i(x)}$$\n",
    "\n",
    "In conclusion\n",
    "\n",
    "$$\n",
    "h(\\theta \\mid x)=\n",
    "\\hat{\\gamma_1}h_1(\\theta \\mid x)+\n",
    "\\hat{\\gamma_2}h_2(\\theta \\mid x)+\n",
    "\\hat{\\gamma_3}h_3(\\theta \\mid x)\n",
    "$$\n",
    "\n",
    "Where $\\hat{\\gamma_i}=k\\gamma_if_i(x)$, weighted so that the three constants keep adding to $1$.\n",
    "\n",
    "Then, it is enough to obtain $f_i(x)$\n",
    "\n",
    "$$h_i(\\theta,\\alpha,\\beta)=\\theta^{\\alpha-1}(1-\\theta)^{\\beta-1}$$\n",
    "\n",
    "$$f_i(x)=\\int f(x\\mid \\theta)h_i(\\theta)d\\theta=\n",
    "\\int_0^1 \\left({{n}\\choose{x}} \\theta^{x}(1-\\theta)^{n-x}\\right)\n",
    "\\left(\\frac{1}{B(\\alpha,\\beta)}\\theta^{\\alpha-1}(1-\\theta)^{\\beta-1}\\right)d\\theta=\n",
    "$$\n",
    "$$\n",
    "={{n}\\choose{x}}\\frac{1}{B(\\alpha,\\beta)}\\int_0^1 \\theta^{\\alpha+x-1}(1-\\theta)^{\\beta+n-x-1}d\\theta=\n",
    "{{n}\\choose{x}}\\frac{B(\\alpha+x,\\beta+n-x)}{B(\\alpha,\\beta)}\\int_0^1 h_i(\\theta,\\alpha+x,\\beta+n-x)d\\theta=\n",
    "{{n}\\choose{x}}\\frac{B(\\alpha+x,\\beta+n-x)}{B(\\alpha,\\beta)}\n",
    "$$\n",
    "\n",
    "And then,\n",
    "\n",
    "$$\n",
    "h_i(\\theta \\mid x)=\\dfrac{f_i(x,\\theta)}{f_i(x)}=\\frac{B(\\alpha,\\beta)}{{{n}\\choose{x}}B(\\alpha+x,\\beta+n-x)}\n",
    "\\frac{{{n}\\choose{x}}}{B(\\alpha,\\beta)}\\theta^{\\alpha+x-1}(1-\\theta)^{\\beta+n-x-1}=h_i(\\theta,\\alpha+x,\\beta+n-x)\n",
    "$$"
   ]
  },
  {
   "cell_type": "code",
   "execution_count": 48,
   "id": "e1c11696",
   "metadata": {},
   "outputs": [],
   "source": [
    "# new parameters\n",
    "post.alpha_1<-prior.alpha_1+x.obs\n",
    "post.alpha_2<-prior.alpha_2+x.obs\n",
    "post.alpha_3<-prior.alpha_3+x.obs\n",
    "\n",
    "post.beta_1<-prior.beta_1+n-x.obs\n",
    "post.beta_2<-prior.beta_2+n-x.obs\n",
    "post.beta_3<-prior.beta_3+n-x.obs\n",
    "\n",
    "# then compute the marginals for the given observations\n",
    "f1<-choose(n,x.obs)*beta(post.alpha_1,post.beta_1)/beta(prior.alpha_1,prior.beta_1)\n",
    "f2<-choose(n,x.obs)*beta(post.alpha_2,post.beta_2)/beta(prior.alpha_2,prior.beta_2)\n",
    "f3<-choose(n,x.obs)*beta(post.alpha_3,post.beta_3)/beta(prior.alpha_3,prior.beta_3)\n",
    "\n",
    "#We obtain the new gamma factors, imposing the weights add to 1\n",
    "post.gamma_1<-prior.gamma_1*f1\n",
    "post.gamma_2<-prior.gamma_2*f2\n",
    "post.gamma_3<-prior.gamma_3*f3\n",
    "sum<-post.gamma_1+post.gamma_2+post.gamma_3\n",
    "post.gamma_1<-post.gamma_1/sum\n",
    "post.gamma_2<-post.gamma_2/sum\n",
    "post.gamma_3<-post.gamma_3/sum\n",
    "\n",
    "# The posterior is a new mixture\n",
    "mixture.post.pdf<-function(theta){ return(post.gamma_1*dbeta(theta,post.alpha_1,post.beta_1)+\n",
    "                                          post.gamma_2*dbeta(theta,post.alpha_2,post.beta_2)+\n",
    "                                          post.gamma_3*dbeta(theta,post.alpha_3,post.beta_3)) }\n",
    "\n",
    "mixture.post.cdf<-function(theta){ return(post.gamma_1*pbeta(theta,post.alpha_1,post.beta_1)+\n",
    "                                          post.gamma_2*pbeta(theta,post.alpha_2,post.beta_2)+\n",
    "                                          post.gamma_3*pbeta(theta,post.alpha_3,post.beta_3)) }"
   ]
  },
  {
   "cell_type": "code",
   "execution_count": 50,
   "id": "50f20bee",
   "metadata": {},
   "outputs": [
    {
     "data": {
      "image/png": "[encoded data removed]",
      "text/plain": [
       "Plot with title “Mixture probability density function”"
      ]
     },
     "metadata": {
      "image/png": {
       "height": 420,
       "width": 900
      }
     },
     "output_type": "display_data"
    }
   ],
   "source": [
    "# new pdf's representation\n",
    "\n",
    "options(repr.plot.width=15,repr.plot.height=7)\n",
    "par(mfrow=c(1,2))\n",
    "\n",
    "u<-seq(0,1,length=100)\n",
    "v<-mixture.post.pdf(u)\n",
    "\n",
    "plot(u,v,\n",
    "     xlim=c(0,1), ylim=c(0,max(v)),\n",
    "     xlab=\"\", ylab=\"Density\",\n",
    "     type=\"l\",\n",
    "     lwd=2.5,\n",
    "     col=\"blue\",\n",
    "     main=sprintf(\"Mixture probability density function\"))"
   ]
  },
  {
   "cell_type": "markdown",
   "id": "ffbaf6f6",
   "metadata": {},
   "source": [
    "### 2.3 Analysis by using independent random numbers"
   ]
  },
  {
   "cell_type": "code",
   "execution_count": null,
   "id": "0432caab",
   "metadata": {},
   "outputs": [],
   "source": []
  },
  {
   "cell_type": "markdown",
   "id": "87c30e14",
   "metadata": {},
   "source": [
    "### 2.4 Analysis by using JAGS"
   ]
  },
  {
   "cell_type": "code",
   "execution_count": null,
   "id": "1cd75330",
   "metadata": {},
   "outputs": [],
   "source": []
  },
  {
   "cell_type": "markdown",
   "id": "ae359c49",
   "metadata": {},
   "source": [
    "### 2.5 Analysis by using Stan$ {}^{\\star}$"
   ]
  },
  {
   "cell_type": "code",
   "execution_count": 5,
   "id": "0f121030",
   "metadata": {},
   "outputs": [
    {
     "ename": "ERROR",
     "evalue": "Error in parse(text = x, srcfile = src): <text>:1:3: unexpected string constant\n4: fail to develop a workable version.\n5: \"\n     ^\n",
     "output_type": "error",
     "traceback": [
      "Error in parse(text = x, srcfile = src): <text>:1:3: unexpected string constant\n4: fail to develop a workable version.\n5: \"\n     ^\nTraceback:\n"
     ]
    }
   ],
   "source": [
    "\"\"\"\n",
    "There are several known workarounds; \n",
    "you can try to find one but do not despair if you\n",
    "fail to develop a workable version.\n",
    "\"\"\""
   ]
  }
 ],
 "metadata": {
  "kernelspec": {
   "display_name": "R",
   "language": "R",
   "name": "ir"
  },
  "language_info": {
   "codemirror_mode": "r",
   "file_extension": ".r",
   "mimetype": "text/x-r-source",
   "name": "R",
   "pygments_lexer": "r",
   "version": "4.1.2"
  }
 },
 "nbformat": 4,
 "nbformat_minor": 5
}
